{
  "nbformat": 4,
  "nbformat_minor": 0,
  "metadata": {
    "colab": {
      "name": "js&cc_.ipynb",
      "provenance": [],
      "collapsed_sections": []
    },
    "kernelspec": {
      "name": "python3",
      "display_name": "Python 3"
    },
    "language_info": {
      "name": "python"
    }
  },
  "cells": [
    {
      "cell_type": "code",
      "metadata": {
        "id": "mSVWzhbkNCV4"
      },
      "source": [
        "import math\n",
        "import numpy as np\n",
        "import matplotlib.pyplot as plt\n",
        "import pandas as pd\n",
        "%matplotlib inline\n",
        "\n",
        "def sim(A, B):\n",
        "  \"\"\"\n",
        "  A, B - python's set {} \n",
        "  Jaccard Distance = 1 - len(A & B)/len(A | B)\n",
        "  \"\"\"\n",
        "  return len(A & B)/len(A | B)\n",
        "  \n",
        "def sim_list(A, B):\n",
        "  \"\"\"\n",
        "  A, B - python's list [] \n",
        "  Jaccard Distance = 1 - len(A & B)/len(A | B)\n",
        "  \"\"\"\n",
        "  intersect = [x for x in A if x in B]\n",
        "  union = A+B\n",
        "  print(len(intersect))\n",
        "  print(union)\n",
        "  return len(intersect)/len(union)"
      ],
      "execution_count": null,
      "outputs": []
    },
    {
      "cell_type": "code",
      "metadata": {
        "colab": {
          "base_uri": "https://localhost:8080/"
        },
        "id": "qo4ThASmNSWP",
        "outputId": "32abe92b-7695-4a6b-92bb-959e90639e50"
      },
      "source": [
        "df_dc = pd.read_csv('https://raw.githubusercontent.com/baohuy251210/ComicCharactersMining/main/data/wikia/dc-wikia-data.csv') \n",
        "print(df_dc.columns)\n",
        "print(df_dc.shape)"
      ],
      "execution_count": null,
      "outputs": [
        {
          "output_type": "stream",
          "text": [
            "Index(['Unnamed: 0', 'page_id', 'name', 'urlslug', 'id', 'align', 'eye',\n",
            "       'hair', 'sex', 'gsm', 'alive', 'appearances', 'first appearance',\n",
            "       'year'],\n",
            "      dtype='object')\n",
            "(6896, 14)\n"
          ],
          "name": "stdout"
        }
      ]
    },
    {
      "cell_type": "code",
      "metadata": {
        "id": "s3w2CsFfPIlR"
      },
      "source": [
        "df = df_dc[(df_dc['year'] <= 1975)]\n",
        "pd.set_option('display.max_columns', 7)"
      ],
      "execution_count": null,
      "outputs": []
    },
    {
      "cell_type": "code",
      "metadata": {
        "colab": {
          "base_uri": "https://localhost:8080/"
        },
        "id": "odsWawXRUzpU",
        "outputId": "017f6fe1-f459-45fb-fb73-93b90a244b27"
      },
      "source": [
        "df_nextperiod = df_dc[(df_dc['year'] > 1975) & (df_dc['year'] <= 1995)]\n",
        "pd.set_option('display.max_columns', 7)\n",
        "print(df_nextperiod[['name', 'id','align']].head())"
      ],
      "execution_count": null,
      "outputs": [
        {
          "output_type": "stream",
          "text": [
            "                            name               id            align\n",
            "1          Superman (Clark Kent)  Secret Identity  Good Characters\n",
            "3       James Gordon (New Earth)  Public Identity  Good Characters\n",
            "7      Timothy Drake (New Earth)  Secret Identity  Good Characters\n",
            "17       Kyle Rayner (New Earth)  Secret Identity  Good Characters\n",
            "19  Alexander Luthor (New Earth)  Public Identity   Bad Characters\n"
          ],
          "name": "stdout"
        }
      ]
    },
    {
      "cell_type": "code",
      "metadata": {
        "id": "4Yvq5HjjVYrm",
        "colab": {
          "base_uri": "https://localhost:8080/"
        },
        "outputId": "4a82d225-6b85-4b84-d5d9-57a14d2e9a1c"
      },
      "source": [
        "def extract_columns_to_string(df, attrs = ['eye', 'sex','hair']):\n",
        "  \"\"\"\n",
        "  return combined string from a dataframe with columns \n",
        "  'Blue Eyes  Male Characters  Black Hair brown eyes male chara...'\n",
        "  vs.\n",
        "  'Blue Eyes    Male Characters  Black Hair'\n",
        "  \"\"\"\n",
        "  if attrs == ['id', 'align']:\n",
        "    #None align (bad/good/neutral) will be set to neutral:\n",
        "    df[['align']]=df[['align']].fillna('Neutral Characters')\n",
        "  df = df.fillna('none')\n",
        "  \n",
        "  res = \"\"\n",
        "  df['combined'] = \"\"\n",
        "  for attr in attrs:\n",
        "    df['combined'] += df[attr] + \" \" \n",
        "  res = ''.join(df['combined'])\n",
        "  return res, df\n",
        "\n",
        "def collisioncounter(data):\n",
        "  hashTable = {}\n",
        "  for i in data:\n",
        "    if i not in hashTable: \n",
        "      hashTable[i] = 1\n",
        "    else:\n",
        "      hashTable[i] += 1\n",
        "  return hashTable\n",
        "\n",
        "# TEST\n",
        "def save_txt(filename,string):\n",
        "  with open(filename, 'w') as file:\n",
        "    file.write(string)\n",
        "\n",
        "#ID + ALIGN 75 to 95 vs before 75\n",
        "attrs = ['id', 'align']\n",
        "df_bef1975 = df_dc[(df_dc['year'] <= 1975)]\n",
        "str_bef1975_id, df_hs_ = extract_columns_to_string(df_bef1975, attrs) #eye sex hair string\n",
        "\n",
        "\n",
        "df_nextperiod = df_dc[(df_dc['year'] > 1975) & (df_dc['year'] <= 1995)]\n",
        "str_aft1975_id, df_aft_hs_ = extract_columns_to_string(df_nextperiod,attrs) #eye sex hair string\n",
        "\n",
        "w_a1975 = str_aft1975_id.split()\n",
        "w_b1975 = str_bef1975_id.split()\n",
        "print('id and align attributes after 1975 (DC):',set(w_a1975))\n",
        "print('id and align attributes before 1975 (DC):',set(w_b1975))\n",
        "print('Similarity:',sim(set(w_a1975), set(w_b1975)))"
      ],
      "execution_count": null,
      "outputs": [
        {
          "output_type": "stream",
          "text": [
            "id and align attributes after 1975 (DC): {'Public', 'Good', 'Bad', 'Unknown', 'Criminals', 'none', 'Secret', 'Reformed', 'Identity', 'Characters', 'Neutral'}\n",
            "id and align attributes before 1975 (DC): {'Public', 'Good', 'Bad', 'none', 'Secret', 'Identity', 'Characters', 'Neutral'}\n",
            "Similarity: 0.7272727272727273\n"
          ],
          "name": "stdout"
        },
        {
          "output_type": "stream",
          "text": [
            "/usr/local/lib/python3.7/dist-packages/pandas/core/frame.py:3069: SettingWithCopyWarning: \n",
            "A value is trying to be set on a copy of a slice from a DataFrame.\n",
            "Try using .loc[row_indexer,col_indexer] = value instead\n",
            "\n",
            "See the caveats in the documentation: https://pandas.pydata.org/pandas-docs/stable/user_guide/indexing.html#returning-a-view-versus-a-copy\n",
            "  self[k1] = value[k2]\n",
            "/usr/local/lib/python3.7/dist-packages/pandas/core/frame.py:3069: SettingWithCopyWarning: \n",
            "A value is trying to be set on a copy of a slice from a DataFrame.\n",
            "Try using .loc[row_indexer,col_indexer] = value instead\n",
            "\n",
            "See the caveats in the documentation: https://pandas.pydata.org/pandas-docs/stable/user_guide/indexing.html#returning-a-view-versus-a-copy\n",
            "  self[k1] = value[k2]\n"
          ],
          "name": "stderr"
        }
      ]
    },
    {
      "cell_type": "code",
      "metadata": {
        "colab": {
          "base_uri": "https://localhost:8080/"
        },
        "id": "gXvnjADSBOJW",
        "outputId": "469744f4-1047-4b40-fb41-fb8b572e1d63"
      },
      "source": [
        "df_dc = pd.read_csv('https://raw.githubusercontent.com/baohuy251210/ComicCharactersMining/main/data/wikia/dc-wikia-data.csv')\n",
        "# 90 to 2000 vs after 2000\n",
        "df_bef2000 = df_dc[(df_dc['year'] >= 1990) & (df_dc['year'] <= 2000)]\n",
        "str_bef2000_id, df_hs_ = extract_columns_to_string(df_bef2000, ['id', 'align']) #eye sex hair string\n",
        "\n",
        "\n",
        "df_aft2000 = df_dc[(df_dc['year'] > 2000)]\n",
        "\n",
        "str_aft2000_id, df_aft_hs_ = extract_columns_to_string(df_aft2000,['id', 'align']) #eye sex hair string\n",
        "\n",
        "w_a2000 = str_aft2000_id.split()\n",
        "w_b2000 = str_bef2000_id.split()\n",
        "print('id and align attributes after 2000 (DC):',set(w_a2000))\n",
        "print('id and align attributes before 2000 (DC):',set(w_b2000))\n",
        "print('Similarity: ',sim(set(w_a2000), set(w_b2000)))"
      ],
      "execution_count": null,
      "outputs": [
        {
          "output_type": "stream",
          "text": [
            "id and align attributes after 2000 (DC): {'Public', 'Good', 'Bad', 'Unknown', 'Criminals', 'none', 'Secret', 'Reformed', 'Identity', 'Characters', 'Neutral'}\n",
            "id and align attributes before 2000 (DC): {'Public', 'Good', 'Bad', 'Unknown', 'Criminals', 'none', 'Secret', 'Reformed', 'Identity', 'Characters', 'Neutral'}\n",
            "Similarity:  1.0\n"
          ],
          "name": "stdout"
        },
        {
          "output_type": "stream",
          "text": [
            "/usr/local/lib/python3.7/dist-packages/pandas/core/frame.py:3069: SettingWithCopyWarning: \n",
            "A value is trying to be set on a copy of a slice from a DataFrame.\n",
            "Try using .loc[row_indexer,col_indexer] = value instead\n",
            "\n",
            "See the caveats in the documentation: https://pandas.pydata.org/pandas-docs/stable/user_guide/indexing.html#returning-a-view-versus-a-copy\n",
            "  self[k1] = value[k2]\n",
            "/usr/local/lib/python3.7/dist-packages/pandas/core/frame.py:3069: SettingWithCopyWarning: \n",
            "A value is trying to be set on a copy of a slice from a DataFrame.\n",
            "Try using .loc[row_indexer,col_indexer] = value instead\n",
            "\n",
            "See the caveats in the documentation: https://pandas.pydata.org/pandas-docs/stable/user_guide/indexing.html#returning-a-view-versus-a-copy\n",
            "  self[k1] = value[k2]\n"
          ],
          "name": "stderr"
        }
      ]
    },
    {
      "cell_type": "code",
      "metadata": {
        "colab": {
          "base_uri": "https://localhost:8080/"
        },
        "id": "cj_yuy6pc2Ni",
        "outputId": "947f69fc-ee40-49af-c510-7fac3ee9f01c"
      },
      "source": [
        "##Marvel similarities:\n",
        "#Get data\n",
        "df_mv = pd.read_csv(\"https://raw.githubusercontent.com/baohuy251210/ComicCharactersMining/main/data/wikia/marvel-wikia-data.csv\")\n",
        "df_a75 = df_mv[(df_mv['year'] > 1975) & (df_mv['year'] <= 1995)]\n",
        "df_b75 = df_mv[(df_mv['year'] <= 1975)]\n",
        "attrs_id = ['id', 'align']\n",
        "#Get combined data and string\n",
        "mv_str_a75_esh, mv_df_a75_esh = extract_columns_to_string(df_a75)\n",
        "mv_str_b75_esh, mv_df_b75_esh = extract_columns_to_string(df_b75)\n",
        "#get similarity:\n",
        "word_mv_a75_esh = mv_str_a75_esh.split()\n",
        "word_mv_b75_esh = mv_str_b75_esh.split()\n",
        "print('Marvel characters : \"eye\", \"hair\",\"sex\" before 75 vs 75 to 95')\n",
        "print('attributes after 75 - 95 :',set(word_mv_a75_esh))\n",
        "print('attributes before 75:',set(word_mv_b75_esh))\n",
        "print('Similarity: ',sim(set(word_mv_a75_esh), set(word_mv_b75_esh)))\n",
        "\n",
        "### Id and Align:\n",
        "mv_str_a75_id, mv_df_a75_id = extract_columns_to_string(df_a75, attrs_id)\n",
        "mv_str_b75_id, mv_df_b75_id = extract_columns_to_string(df_b75, attrs_id)\n",
        "word_mv_a75_id = mv_str_a75_id.split()\n",
        "word_mv_b75_id = mv_str_b75_id.split()\n",
        "print('--------------------\\nMarvel characters : \"Id\", \"align\" before 75 vs 75 to 95')\n",
        "print('attributes after 75 - 95 :',set(word_mv_a75_id))\n",
        "print('attributes before 75:',set(word_mv_b75_id))\n",
        "print('Similarity: ',sim(set(word_mv_a75_id), set(word_mv_b75_id)))"
      ],
      "execution_count": null,
      "outputs": [
        {
          "output_type": "stream",
          "text": [
            "Marvel characters : \"eye\", \"hair\",\"sex\" before 75 vs 75 to 95\n",
            "attributes after 75 - 95 : {'Female', 'Strawberry', 'Light', 'Blue', 'Grey', 'White', 'Pink', 'Characters', 'Blond', 'Auburn', 'Multiple', 'Eyes', 'Hair', 'Compound', 'Male', 'Brown', 'Eyeballs', 'none', 'Violet', 'Agender', 'Magenta', 'Black', 'Hazel', 'Bald', 'Eye', 'Variable', 'Amber', 'No', 'Purple', 'One', 'Gold', 'Green', 'Yellow', 'Red', 'Silver', 'Orange'}\n",
            "attributes before 75: {'Female', 'Strawberry', 'Light', 'Blue', 'Grey', 'White', 'Orange-brown', 'Pink', 'Characters', 'Blond', 'Auburn', 'Genderfluid', 'Multiple', 'Eyes', 'Hair', 'Male', 'Brown', 'none', 'Eyeballs', 'Violet', 'Agender', 'Black', 'Hazel', 'Bald', 'Bronze', 'Eye', 'Variable', 'No', 'Purple', 'One', 'Reddish', 'Gold', 'Green', 'Yellow', 'Red', 'Silver', 'Orange'}\n",
            "Similarity:  0.825\n",
            "--------------------\n",
            "Marvel characters : \"Id\", \"align\" before 75 vs 75 to 95\n",
            "attributes after 75 - 95 : {'Dual', 'No', 'Authorities', 'Public', 'Good', 'to', 'Bad', 'none', 'Secret', 'Known', 'Identity', 'Characters', 'Neutral'}\n",
            "attributes before 75: {'Dual', 'No', 'Authorities', 'Public', 'Good', 'to', 'Bad', 'none', 'Secret', 'Known', 'Identity', 'Characters', 'Neutral'}\n",
            "Similarity:  1.0\n"
          ],
          "name": "stdout"
        },
        {
          "output_type": "stream",
          "text": [
            "/usr/local/lib/python3.7/dist-packages/pandas/core/frame.py:3069: SettingWithCopyWarning: \n",
            "A value is trying to be set on a copy of a slice from a DataFrame.\n",
            "Try using .loc[row_indexer,col_indexer] = value instead\n",
            "\n",
            "See the caveats in the documentation: https://pandas.pydata.org/pandas-docs/stable/user_guide/indexing.html#returning-a-view-versus-a-copy\n",
            "  self[k1] = value[k2]\n"
          ],
          "name": "stderr"
        }
      ]
    },
    {
      "cell_type": "code",
      "metadata": {
        "colab": {
          "base_uri": "https://localhost:8080/"
        },
        "id": "j0hMDxNnrdpX",
        "outputId": "c51a1d7c-5d28-4ddc-b8a1-03af23209442"
      },
      "source": [
        "##MARVEL split at 2000: [90, 00] vs [20, ++]\n",
        "df_b00 = df_mv[(df_mv['year'] >= 1990) & (df_mv['year'] <= 2000)]\n",
        "df_a00 = df_mv[(df_mv['year'] > 2000)]\n",
        "attrs_id = ['id', 'align']\n",
        "#Get combined data and string\n",
        "mv_str_a00_esh, mv_df_a00_esh = extract_columns_to_string(df_a00)\n",
        "mv_str_b00_esh, mv_df_b00_esh = extract_columns_to_string(df_b00)\n",
        "#get similarity:\n",
        "word_mv_a00_esh = mv_str_a00_esh.split()\n",
        "word_mv_b00_esh = mv_str_b00_esh.split()\n",
        "print('Marvel characters : \"eye\", \"hair\",\"sex\" from 90 to 00 vs after 00')\n",
        "print('attributes after 2000 :',set(word_mv_a00_esh))\n",
        "print('attributes 90 - 2000:',set(word_mv_b00_esh))\n",
        "print('Similarity: ',sim(set(word_mv_a00_esh), set(word_mv_b00_esh)))\n",
        "\n",
        "### Id and Align:\n",
        "mv_str_a00_id, mv_df_a00_id = extract_columns_to_string(df_a00, attrs_id)\n",
        "mv_str_b00_id, mv_df_b00_id = extract_columns_to_string(df_b00, attrs_id)\n",
        "word_mv_a00_id = mv_str_a00_id.split()\n",
        "word_mv_b00_id = mv_str_b00_id.split()\n",
        "print('--------------------\\nMarvel characters : \"Id\", \"align\"  from 90 to 00 vs after 00')\n",
        "print('attributes after 2000 :',set(word_mv_a00_id))\n",
        "print('attributes before 90 - 2000:',set(word_mv_b00_id))\n",
        "print('Similarity: ',sim(set(word_mv_a00_id), set(word_mv_b00_id)))"
      ],
      "execution_count": null,
      "outputs": [
        {
          "output_type": "stream",
          "text": [
            "Marvel characters : \"eye\", \"hair\",\"sex\" from 90 to 00 vs after 00\n",
            "attributes after 2000 : {'Female', 'Strawberry', 'Blue', 'Grey', 'White', 'Dyed', 'Pink', 'Characters', 'Blond', 'Auburn', 'Genderfluid', 'Multiple', 'Eyes', 'Hair', 'Male', 'Brown', 'Eyeballs', 'none', 'Violet', 'Agender', 'Black', 'Hazel', 'Bald', 'Eye', 'Variable', 'No', 'Amber', 'One', 'Purple', 'Reddish', 'Gold', 'Green', 'Yellow', 'Red', 'Silver', 'Orange'}\n",
            "attributes 90 - 2000: {'Female', 'Strawberry', 'Light', 'Blue', 'Grey', 'White', 'Pink', 'Characters', 'Blond', 'Auburn', 'Multiple', 'Eyes', 'Hair', 'Male', 'Brown', 'Eyeballs', 'none', 'Violet', 'Agender', 'Magenta', 'Black', 'Hazel', 'Bald', 'Eye', 'Variable', 'No', 'Amber', 'Purple', 'One', 'Reddish', 'Gold', 'Green', 'Yellow', 'Red', 'Silver', 'Orange'}\n",
            "Similarity:  0.8947368421052632\n",
            "--------------------\n",
            "Marvel characters : \"Id\", \"align\"  from 90 to 00 vs after 00\n",
            "attributes after 2000 : {'Dual', 'No', 'Authorities', 'Public', 'Good', 'to', 'Bad', 'none', 'Secret', 'Known', 'Identity', 'Characters', 'Neutral'}\n",
            "attributes before 90 - 2000: {'Dual', 'No', 'Authorities', 'Public', 'Good', 'to', 'Bad', 'none', 'Secret', 'Known', 'Identity', 'Characters', 'Neutral'}\n",
            "Similarity:  1.0\n"
          ],
          "name": "stdout"
        },
        {
          "output_type": "stream",
          "text": [
            "/usr/local/lib/python3.7/dist-packages/pandas/core/frame.py:3069: SettingWithCopyWarning: \n",
            "A value is trying to be set on a copy of a slice from a DataFrame.\n",
            "Try using .loc[row_indexer,col_indexer] = value instead\n",
            "\n",
            "See the caveats in the documentation: https://pandas.pydata.org/pandas-docs/stable/user_guide/indexing.html#returning-a-view-versus-a-copy\n",
            "  self[k1] = value[k2]\n"
          ],
          "name": "stderr"
        }
      ]
    },
    {
      "cell_type": "markdown",
      "metadata": {
        "id": "5Dd3fp2KA7Iq"
      },
      "source": [
        "-"
      ]
    },
    {
      "cell_type": "markdown",
      "metadata": {
        "id": "kLooJaUaPJL6"
      },
      "source": [
        "## Counter\n",
        "### Marvel"
      ]
    },
    {
      "cell_type": "markdown",
      "metadata": {
        "id": "RAozE8XftRnv"
      },
      "source": [
        "#### split 75 part:"
      ]
    },
    {
      "cell_type": "code",
      "metadata": {
        "id": "X6g27eNgX-Nt",
        "colab": {
          "base_uri": "https://localhost:8080/"
        },
        "outputId": "d70c26a5-8ba5-4225-9ea8-56a619db82fe"
      },
      "source": [
        "#eye hair sex\n",
        "counter_mv_b75_ehs = sorted(collisioncounter(mv_df_b75_esh['combined']).items(), key=lambda x:x[1], reverse=True)\n",
        "counter_mv_a75_ehs = sorted(collisioncounter(mv_df_a75_esh['combined']).items(), key=lambda x:x[1], reverse=True)\n",
        "print(counter_mv_b75_ehs)\n",
        "print(counter_mv_a75_ehs)\n",
        "#id align:\n",
        "counter_mv_b75_id = sorted(collisioncounter(mv_df_b75_id['combined']).items(), key=lambda x:x[1], reverse=True)\n",
        "counter_mv_a75_id = sorted(collisioncounter(mv_df_a75_id['combined']).items(), key=lambda x:x[1], reverse=True)\n",
        "print(counter_mv_b75_id)\n",
        "print(counter_mv_a75_id)\n",
        "\n",
        "\n"
      ],
      "execution_count": null,
      "outputs": [
        {
          "output_type": "stream",
          "text": [
            "[('none Male Characters none ', 719), ('none Male Characters Black Hair ', 702), ('none Male Characters Brown Hair ', 339), ('none Male Characters White Hair ', 197), ('none Male Characters Bald ', 177), ('none none none ', 162), ('Brown Eyes Male Characters Brown Hair ', 125), ('none Male Characters Blond Hair ', 118), ('Brown Eyes Male Characters Black Hair ', 110), ('none Female Characters Black Hair ', 102), ('none Male Characters Grey Hair ', 97), ('none Female Characters none ', 92), ('Blue Eyes Male Characters Blond Hair ', 84), ('none Female Characters Blond Hair ', 76), ('Blue Eyes Male Characters Black Hair ', 67), ('Blue Eyes Male Characters Brown Hair ', 61), ('Blue Eyes Female Characters Blond Hair ', 56), ('none Male Characters No Hair ', 55), ('none Female Characters Brown Hair ', 51), ('none Male Characters Red Hair ', 37), ('Red Eyes Male Characters No Hair ', 35), ('Black Eyes Male Characters Black Hair ', 33), ('Blue Eyes Male Characters White Hair ', 30), ('Brown Eyes Male Characters Bald ', 29), ('Blue Eyes Male Characters Red Hair ', 27), ('Blue Eyes Male Characters Bald ', 27), ('Green Eyes Male Characters No Hair ', 23), ('Blue Eyes Female Characters Black Hair ', 22), ('Blue Eyes Male Characters Grey Hair ', 22), ('Brown Eyes Female Characters Black Hair ', 19), ('none Female Characters Red Hair ', 17), ('Brown Eyes Male Characters Grey Hair ', 16), ('none none No Hair ', 16), ('Yellow Eyes Male Characters No Hair ', 15), ('Black Eyes Male Characters No Hair ', 15), ('Brown Eyes Female Characters Brown Hair ', 13), ('Blue Eyes Female Characters Brown Hair ', 13), ('Hazel Eyes Male Characters Brown Hair ', 11), ('Blue Eyes Female Characters White Hair ', 11), ('Green Eyes Female Characters Black Hair ', 11), ('Red Eyes Male Characters Black Hair ', 11), ('Black Eyes Male Characters Brown Hair ', 11), ('White Eyes Male Characters No Hair ', 11), ('Brown Eyes Male Characters White Hair ', 10), ('Blue Eyes Female Characters Red Hair ', 9), ('White Eyes Male Characters Black Hair ', 9), ('Black Eyes Male Characters Bald ', 9), ('Variable Eyes Male Characters Variable Hair ', 8), ('Black Eyes Male Characters none ', 8), ('Grey Eyes Male Characters Black Hair ', 7), ('Green Eyes Female Characters Red Hair ', 7), ('Green Eyes Male Characters Black Hair ', 7), ('Red Eyes Male Characters Bald ', 7), ('Green Eyes Male Characters Brown Hair ', 7), ('none Female Characters Grey Hair ', 7), ('none Female Characters White Hair ', 7), ('Blue Eyes Male Characters Auburn Hair ', 6), ('Brown Eyes Male Characters No Hair ', 6), ('Red Eyes Male Characters White Hair ', 6), ('Blue Eyes Male Characters none ', 6), ('White Eyes Male Characters Bald ', 6), ('none Male Characters Orange Hair ', 6), ('Yellow Eyes none No Hair ', 6), ('none none White Hair ', 6), ('Blue Eyes Female Characters Auburn Hair ', 5), ('Blue Eyes Female Characters Grey Hair ', 5), ('Green Eyes Female Characters Green Hair ', 5), ('Brown Eyes Male Characters Red Hair ', 5), ('Black Eyes none No Hair ', 5), ('Brown Eyes Male Characters Blond Hair ', 5), ('Green Eyes Male Characters Bald ', 5), ('Green Eyes Male Characters Grey Hair ', 5), ('Red Eyes Male Characters Brown Hair ', 5), ('Black Eyes Female Characters Black Hair ', 5), ('Black Eyes Male Characters Grey Hair ', 5), ('none none Brown Hair ', 5), ('none none Black Hair ', 5), ('Blue Eyes Male Characters No Hair ', 4), ('Yellow Eyes Male Characters none ', 4), ('Green Eyes Male Characters Red Hair ', 4), ('Grey Eyes Female Characters Black Hair ', 4), ('White Eyes Male Characters White Hair ', 4), ('Brown Eyes Female Characters Blond Hair ', 4), ('Red Eyes Male Characters none ', 4), ('White Eyes none No Hair ', 4), ('Green Eyes Female Characters Brown Hair ', 3), ('Blue Eyes Male Characters Silver Hair ', 3), ('Grey Eyes Male Characters Bald ', 3), ('Grey Eyes Male Characters Brown Hair ', 3), ('Hazel Eyes Male Characters Blond Hair ', 3), ('Grey Eyes Male Characters No Hair ', 3), ('none Male Characters Yellow Hair ', 3), ('Yellow Eyes Male Characters Black Hair ', 3), ('Green Eyes Male Characters none ', 3), ('White Eyes Male Characters none ', 3), ('none Female Characters Auburn Hair ', 3), ('Black Eyes Male Characters Blond Hair ', 3), ('One Eye Male Characters none ', 3), ('Green Eyes Male Characters Green Hair ', 3), ('none Male Characters Green Hair ', 3), ('none Male Characters Orange-brown Hair ', 3), ('Blue Eyes Male Characters Strawberry Blond Hair ', 2), ('Red Eyes Male Characters Grey Hair ', 2), ('Green Eyes Female Characters Blond Hair ', 2), ('Red Eyes Male Characters Red Hair ', 2), ('Brown Eyes Male Characters Auburn Hair ', 2), ('Yellow Eyes Female Characters Black Hair ', 2), ('Yellow Eyes Male Characters Green Hair ', 2), ('Red Eyes Female Characters Blond Hair ', 2), ('Black Eyes Male Characters Red Hair ', 2), ('Yellow Eyes Agender Characters No Hair ', 2), ('Hazel Eyes Male Characters White Hair ', 2), ('Black Eyes Male Characters Orange Hair ', 2), ('Yellow Eyes Male Characters Brown Hair ', 2), ('Yellow Eyes Male Characters Blond Hair ', 2), ('none Male Characters Auburn Hair ', 2), ('Yellow Eyes Male Characters Bald ', 2), ('Gold Eyes Male Characters Gold Hair ', 2), ('Red Eyes none none ', 2), ('Red Eyes Male Characters Yellow Hair ', 2), ('White Eyes Male Characters Green Hair ', 2), ('Red Eyes Female Characters Green Hair ', 2), ('Brown Eyes Male Characters none ', 2), ('Blue Eyes Female Characters none ', 2), ('none Male Characters Strawberry Blond Hair ', 2), ('none Female Characters Strawberry Blond Hair ', 2), ('none Agender Characters No Hair ', 2), ('One Eye Male Characters Bald ', 2), ('none none Purple Hair ', 2), ('none none Bald ', 2), ('Black Eyes Agender Characters No Hair ', 2), ('Blue Eyes Male Characters Blue Hair ', 1), ('Yellow Eyes Male Characters Blue Hair ', 1), ('Gold Eyes Male Characters No Hair ', 1), ('Green Eyes Genderfluid Characters Black Hair ', 1), ('Green Eyes Female Characters Strawberry Blond Hair ', 1), ('Blue Eyes Male Characters Reddish Blond Hair ', 1), ('Green Eyes Male Characters Strawberry Blond Hair ', 1), ('Blue Eyes Female Characters Bald ', 1), ('Brown Eyes Female Characters Strawberry Blond Hair ', 1), ('Brown Eyes Male Characters Green Hair ', 1), ('White Eyes Male Characters Gold Hair ', 1), ('Hazel Eyes Male Characters Bald ', 1), ('Green Eyes Male Characters Orange Hair ', 1), ('White Eyes Male Characters Brown Hair ', 1), ('Hazel Eyes Female Characters Black Hair ', 1), ('Purple Eyes Female Characters Black Hair ', 1), ('Brown Eyes Female Characters Red Hair ', 1), ('White Eyes Male Characters Yellow Hair ', 1), ('Grey Eyes Male Characters Grey Hair ', 1), ('Red Eyes Female Characters Red Hair ', 1), ('Green Eyes Female Characters Auburn Hair ', 1), ('Yellow Eyes Male Characters Red Hair ', 1), ('Yellow Eyes Male Characters Yellow Hair ', 1), ('Green Eyes Female Characters Purple Hair ', 1), ('Purple Eyes Male Characters Purple Hair ', 1), ('Grey Eyes Male Characters White Hair ', 1), ('Purple Eyes Male Characters No Hair ', 1), ('none none Red Hair ', 1), ('Multiple Eyes Male Characters none ', 1), ('Red Eyes none Brown Hair ', 1), ('Red Eyes Female Characters Black Hair ', 1), ('Hazel Eyes Female Characters Brown Hair ', 1), ('Black Eyes Male Characters Yellow Hair ', 1), ('Yellow Eyes none Black Hair ', 1), ('White Eyes Male Characters Blue Hair ', 1), ('Black Eyes Female Characters Blond Hair ', 1), ('White Eyes Male Characters Orange Hair ', 1), ('One Eye Male Characters No Hair ', 1), ('White Eyes Female Characters Blond Hair ', 1), ('Yellow Eyeballs Male Characters No Hair ', 1), ('Blue Eyes Male Characters Orange Hair ', 1), ('none Male Characters Bronze Hair ', 1), ('Red Eyes none Black Hair ', 1), ('Silver Eyes Female Characters White Hair ', 1), ('Blue Eyes Female Characters Strawberry Blond Hair ', 1), ('Brown Eyes Male Characters Reddish Blond Hair ', 1), ('Variable Eyes none Black Hair ', 1), ('Brown Eyes Female Characters Grey Hair ', 1), ('Green Eyes none Black Hair ', 1), ('Green Eyes none Blond Hair ', 1), ('Hazel Eyes Male Characters Black Hair ', 1), ('White Eyes Male Characters Blond Hair ', 1), ('Yellow Eyes Female Characters No Hair ', 1), ('Blue Eyes Male Characters Variable Hair ', 1), ('White Eyes Female Characters Orange Hair ', 1), ('Brown Eyes none Brown Hair ', 1), ('Red Eyes Male Characters Pink Hair ', 1), ('Variable Eyes Female Characters Variable Hair ', 1), ('Yellow Eyes Male Characters Grey Hair ', 1), ('Red Eyes Male Characters Green Hair ', 1), ('Red Eyes Female Characters Brown Hair ', 1), ('Variable Eyes none Variable Hair ', 1), ('Purple Eyes Male Characters Black Hair ', 1), ('Black Eyes none Red Hair ', 1), ('Red Eyes Female Characters Grey Hair ', 1), ('Green Eyes Male Characters Yellow Hair ', 1), ('Variable Eyes Male Characters No Hair ', 1), ('Green Eyes Male Characters Auburn Hair ', 1), ('Black Eyes Male Characters White Hair ', 1), ('Green Eyes Female Characters White Hair ', 1), ('No Eyes none No Hair ', 1), ('White Eyes Male Characters Grey Hair ', 1), ('Orange Eyes Female Characters Green Hair ', 1), ('Brown Eyes Male Characters Gold Hair ', 1), ('Blue Eyes Male Characters Green Hair ', 1), ('none Female Characters Green Hair ', 1), ('White Eyes Female Characters Brown Hair ', 1), ('Red Eyes Female Characters No Hair ', 1), ('Green Eyes Male Characters Blond Hair ', 1), ('Blue Eyes none No Hair ', 1), ('Green Eyes Agender Characters Green Hair ', 1), ('none Female Characters No Hair ', 1), ('Red Eyes Male Characters Orange Hair ', 1), ('Black Eyes Male Characters Blue Hair ', 1), ('Black Eyes none none ', 1), ('none Female Characters Purple Hair ', 1), ('White Eyes Female Characters Black Hair ', 1), ('Violet Eyes Female Characters none ', 1), ('none Male Characters Light Brown Hair ', 1), ('Gold Eyes Female Characters Blond Hair ', 1), ('none Male Characters Pink Hair ', 1), ('none none Blond Hair ', 1), ('none Female Characters Blue Hair ', 1), ('Grey Eyes Male Characters Blond Hair ', 1), ('none Male Characters Purple Hair ', 1), ('Red Eyes none No Hair ', 1), ('Hazel Eyes Female Characters Blond Hair ', 1)]\n",
            "[('none Male Characters none ', 1067), ('none Male Characters Black Hair ', 474), ('none Male Characters Brown Hair ', 330), ('none Female Characters none ', 251), ('Brown Eyes Male Characters Black Hair ', 211), ('none none none ', 209), ('none Female Characters Black Hair ', 171), ('Brown Eyes Male Characters Brown Hair ', 166), ('none Male Characters Blond Hair ', 156), ('none Male Characters No Hair ', 147), ('none Male Characters Bald ', 124), ('none Female Characters Blond Hair ', 115), ('Blue Eyes Female Characters Blond Hair ', 106), ('Blue Eyes Male Characters Blond Hair ', 105), ('none Male Characters Grey Hair ', 104), ('none Female Characters Brown Hair ', 98), ('none Male Characters White Hair ', 98), ('Blue Eyes Male Characters Black Hair ', 85), ('none Male Characters Red Hair ', 85), ('Brown Eyes Female Characters Black Hair ', 83), ('Blue Eyes Male Characters Brown Hair ', 78), ('none Female Characters Red Hair ', 71), ('Blue Eyes Female Characters Black Hair ', 50), ('Black Eyes Male Characters Black Hair ', 48), ('Red Eyes Male Characters No Hair ', 47), ('none none No Hair ', 44), ('Brown Eyes Female Characters Brown Hair ', 40), ('White Eyes Male Characters No Hair ', 37), ('Blue Eyes Male Characters White Hair ', 36), ('Brown Eyes Male Characters Bald ', 34), ('White Eyes Male Characters none ', 33), ('Green Eyes Male Characters No Hair ', 31), ('Black Eyes Female Characters Black Hair ', 31), ('Green Eyes Female Characters Red Hair ', 30), ('none Female Characters White Hair ', 29), ('Blue Eyes Male Characters Red Hair ', 27), ('Blue Eyes Female Characters Brown Hair ', 25), ('Blue Eyes Female Characters Red Hair ', 23), ('Blue Eyes Male Characters Grey Hair ', 23), ('Black Eyes Male Characters No Hair ', 22), ('Yellow Eyes Male Characters No Hair ', 21), ('Brown Eyes Male Characters White Hair ', 20), ('White Eyes Male Characters Black Hair ', 20), ('Red Eyes Male Characters Black Hair ', 18), ('Red Eyes Male Characters none ', 17), ('Green Eyes Male Characters Brown Hair ', 16), ('Blue Eyes Male Characters Bald ', 15), ('Red Eyes Male Characters Bald ', 15), ('Blue Eyes Male Characters none ', 15), ('Green Eyes Male Characters Black Hair ', 14), ('none Female Characters Grey Hair ', 14), ('none Male Characters Green Hair ', 14), ('Brown Eyes Male Characters Grey Hair ', 13), ('Brown Eyes Male Characters none ', 13), ('Black Eyes Male Characters Brown Hair ', 13), ('White Eyes Male Characters White Hair ', 13), ('Red Eyes Male Characters Brown Hair ', 13), ('Blue Eyes Female Characters Grey Hair ', 13), ('Green Eyes Female Characters Blond Hair ', 12), ('Green Eyes Male Characters Red Hair ', 12), ('Grey Eyes Male Characters Black Hair ', 12), ('Blue Eyes Female Characters Strawberry Blond Hair ', 11), ('Green Eyes Female Characters Black Hair ', 11), ('Red Eyes Male Characters White Hair ', 11), ('Brown Eyes Male Characters Blond Hair ', 11), ('Red Eyes none No Hair ', 11), ('Brown Eyes Female Characters Blond Hair ', 10), ('none Female Characters Auburn Hair ', 10), ('Blue Eyes Male Characters No Hair ', 10), ('Brown Eyes Male Characters Red Hair ', 10), ('Blue Eyes Female Characters White Hair ', 10), ('White Eyes Male Characters Bald ', 9), ('Black Eyes Male Characters White Hair ', 9), ('White Eyes Female Characters Blond Hair ', 8), ('none Female Characters No Hair ', 8), ('none Female Characters Bald ', 8), ('Black Eyes Male Characters Bald ', 8), ('Green Eyes Female Characters Brown Hair ', 7), ('none Female Characters Strawberry Blond Hair ', 7), ('Black Eyes Male Characters none ', 7), ('Grey Eyes Male Characters Brown Hair ', 7), ('Yellow Eyes none No Hair ', 7), ('Yellow Eyes Male Characters none ', 7), ('Yellow Eyes Male Characters Black Hair ', 7), ('none Female Characters Green Hair ', 7), ('none Female Characters Blue Hair ', 7), ('none Male Characters Blue Hair ', 7), ('Red Eyes Female Characters No Hair ', 6), ('Hazel Eyes Male Characters Brown Hair ', 6), ('Red Eyes Male Characters Grey Hair ', 6), ('Orange Eyes Male Characters No Hair ', 6), ('Blue Eyes Female Characters none ', 6), ('Green Eyes Male Characters Blond Hair ', 6), ('Black Eyes Male Characters Grey Hair ', 6), ('none none Black Hair ', 6), ('none Male Characters Auburn Hair ', 6), ('Green Eyes Female Characters Auburn Hair ', 5), ('Blue Eyes Male Characters Strawberry Blond Hair ', 5), ('Blue Eyes Male Characters Blue Hair ', 5), ('Green Eyes Female Characters Green Hair ', 5), ('Variable Eyes Male Characters Variable Hair ', 5), ('Red Eyes Male Characters Blond Hair ', 5), ('Red Eyes Male Characters Red Hair ', 5), ('Blue Eyes Female Characters Auburn Hair ', 5), ('White Eyes Female Characters Black Hair ', 5), ('Brown Eyes Female Characters none ', 5), ('Yellow Eyes Male Characters Blond Hair ', 5), ('none Male Characters Orange Hair ', 5), ('Black Eyes Female Characters none ', 5), ('none none Brown Hair ', 5), ('Grey Eyes Female Characters Black Hair ', 4), ('Blue Eyes Female Characters Bald ', 4), ('Blue Eyes Female Characters Blue Hair ', 4), ('none Male Characters Strawberry Blond Hair ', 4), ('Yellow Eyes Male Characters Brown Hair ', 4), ('Black Eyes Female Characters Brown Hair ', 4), ('Black Eyes Female Characters Blond Hair ', 4), ('Red Eyes Female Characters Black Hair ', 4), ('Pink Eyes Male Characters Black Hair ', 4), ('Red Eyes Male Characters Green Hair ', 4), ('White Eyes Agender Characters Bald ', 4), ('Red Eyes Female Characters Red Hair ', 4), ('Black Eyes none No Hair ', 4), ('Green Eyes Male Characters White Hair ', 4), ('Yellow Eyes Male Characters White Hair ', 4), ('Blue Eyes Male Characters Green Hair ', 4), ('Green Eyes Male Characters Green Hair ', 4), ('none none White Hair ', 4), ('Green Eyes Male Characters none ', 4), ('none none Blond Hair ', 4), ('Pink Eyes Male Characters White Hair ', 3), ('Variable Eyes none No Hair ', 3), ('White Eyes Female Characters Silver Hair ', 3), ('One Eye Male Characters Orange Hair ', 3), ('Brown Eyes Male Characters Green Hair ', 3), ('Violet Eyes Female Characters Black Hair ', 3), ('Brown Eyes Male Characters No Hair ', 3), ('Yellow Eyes Female Characters Black Hair ', 3), ('White Eyes Female Characters Brown Hair ', 3), ('White Eyes Male Characters Blond Hair ', 3), ('Purple Eyes Male Characters Purple Hair ', 3), ('Brown Eyes Female Characters White Hair ', 3), ('Blue Eyes Male Characters Auburn Hair ', 3), ('Brown Eyes Female Characters Grey Hair ', 3), ('Red Eyes none none ', 3), ('White Eyes Male Characters Grey Hair ', 3), ('none Male Characters Purple Hair ', 3), ('Yellow Eyes Female Characters No Hair ', 3), ('White Eyes Male Characters Brown Hair ', 3), ('none Male Characters Yellow Hair ', 3), ('Green Eyes none No Hair ', 3), ('Black Eyes Male Characters Green Hair ', 3), ('White Eyes none No Hair ', 3), ('Hazel Eyes Female Characters Brown Hair ', 2), ('Yellow Eyes Female Characters Red Hair ', 2), ('Orange Eyes Female Characters Black Hair ', 2), ('Blue Eyes Female Characters Silver Hair ', 2), ('Yellow Eyes Male Characters Green Hair ', 2), ('Grey Eyes Male Characters No Hair ', 2), ('Grey Eyes Male Characters Bald ', 2), ('Purple Eyes Female Characters Black Hair ', 2), ('Blue Eyes Female Characters Green Hair ', 2), ('Variable Eyes Agender Characters Variable Hair ', 2), ('Red Eyes Female Characters White Hair ', 2), ('White Eyes Female Characters No Hair ', 2), ('none Female Characters Pink Hair ', 2), ('Hazel Eyes Female Characters Blond Hair ', 2), ('Yellow Eyes Male Characters Blue Hair ', 2), ('White Eyes Female Characters Red Hair ', 2), ('Yellow Eyes Male Characters Orange Hair ', 2), ('Purple Eyes Female Characters Purple Hair ', 2), ('Green Eyes Female Characters none ', 2), ('Magenta Eyes Female Characters Magenta Hair ', 2), ('Blue Eyes none Black Hair ', 2), ('Red Eyes Female Characters Brown Hair ', 2), ('No Eyes Male Characters No Hair ', 2), ('Black Eyes Female Characters No Hair ', 2), ('Yellow Eyes Female Characters Green Hair ', 2), ('Gold Eyes Male Characters Gold Hair ', 2), ('Black Eyes Female Characters Blue Hair ', 2), ('Brown Eyes Female Characters Bald ', 2), ('Variable Eyes none Variable Hair ', 2), ('Variable Eyes Female Characters Variable Hair ', 2), ('Grey Eyes Female Characters Red Hair ', 2), ('none Male Characters Light Brown Hair ', 2), ('Green Eyes Male Characters Strawberry Blond Hair ', 2), ('Red Eyes Female Characters Green Hair ', 2), ('Green Eyes Female Characters Strawberry Blond Hair ', 2), ('Variable Eyes Male Characters No Hair ', 2), ('White Eyes Female Characters Green Hair ', 2), ('Grey Eyes Male Characters none ', 2), ('Blue Eyes none White Hair ', 2), ('Hazel Eyes Male Characters Black Hair ', 2), ('Yellow Eyes Male Characters Bald ', 2), ('Blue Eyes none Blond Hair ', 2), ('White Eyes Male Characters Red Hair ', 2), ('Blue Eyes Female Characters No Hair ', 2), ('Yellow Eyes none Black Hair ', 2), ('Black Eyes Agender Characters No Hair ', 2), ('Green Eyes Female Characters No Hair ', 2), ('Blue Eyes Female Characters Purple Hair ', 1), ('Black Eyeballs Male Characters Brown Hair ', 1), ('Amber Eyes Male Characters Blond Hair ', 1), ('Variable Eyes Agender Characters No Hair ', 1), ('Black Eyes Male Characters Blond Hair ', 1), ('Green Eyes Female Characters White Hair ', 1), ('Brown Eyes Female Characters No Hair ', 1), ('Black Eyes Female Characters Green Hair ', 1), ('Pink Eyes Female Characters Blond Hair ', 1), ('White Eyes Agender Characters No Hair ', 1), ('Variable Eyes Male Characters none ', 1), ('Yellow Eyes Female Characters Purple Hair ', 1), ('Brown Eyes Male Characters Light Brown Hair ', 1), ('One Eye Male Characters Black Hair ', 1), ('Orange Eyes Male Characters Orange Hair ', 1), ('Gold Eyes Female Characters White Hair ', 1), ('Blue Eyes Male Characters Purple Hair ', 1), ('Yellow Eyes Female Characters Blue Hair ', 1), ('Silver Eyes Male Characters Red Hair ', 1), ('Yellow Eyes Female Characters none ', 1), ('Red Eyes Male Characters Orange Hair ', 1), ('Grey Eyes Male Characters Grey Hair ', 1), ('Purple Eyes Male Characters Grey Hair ', 1), ('Violet Eyes Female Characters Silver Hair ', 1), ('Gold Eyes Male Characters No Hair ', 1), ('Yellow Eyes Female Characters Blond Hair ', 1), ('Silver Eyes Male Characters No Hair ', 1), ('Hazel Eyes Male Characters Silver Hair ', 1), ('Brown Eyes Female Characters Pink Hair ', 1), ('Green Eyes Female Characters Magenta Hair ', 1), ('Pink Eyes Female Characters Black Hair ', 1), ('Black Eyes Female Characters Pink Hair ', 1), ('Yellow Eyes Female Characters Brown Hair ', 1), ('Green Eyes Male Characters Orange Hair ', 1), ('Blue Eyes Male Characters Silver Hair ', 1), ('White Eyes Female Characters Gold Hair ', 1), ('Yellow Eyes Female Characters White Hair ', 1), ('Hazel Eyes Female Characters Red Hair ', 1), ('White Eyes Female Characters none ', 1), ('Variable Eyes Female Characters No Hair ', 1), ('One Eye Male Characters Brown Hair ', 1), ('Yellow Eyes Male Characters Red Hair ', 1), ('Purple Eyes Female Characters White Hair ', 1), ('Hazel Eyes Female Characters Grey Hair ', 1), ('Green Eyes none Black Hair ', 1), ('Green Eyes Male Characters Grey Hair ', 1), ('Brown Eyes Male Characters Auburn Hair ', 1), ('Red Eyes Female Characters Pink Hair ', 1), ('Variable Eyes none Blue Hair ', 1), ('Black Eyes Female Characters Purple Hair ', 1), ('none Agender Characters none ', 1), ('Brown Eyes Male Characters Strawberry Blond Hair ', 1), ('Red Eyes none White Hair ', 1), ('Brown Eyes Male Characters Blue Hair ', 1), ('Amber Eyes Male Characters Black Hair ', 1), ('Black Eyes Male Characters Orange Hair ', 1), ('Purple Eyes Male Characters No Hair ', 1), ('Pink Eyes Female Characters No Hair ', 1), ('Green Eyes Female Characters Grey Hair ', 1), ('White Eyes Male Characters Orange Hair ', 1), ('Hazel Eyes Male Characters Bald ', 1), ('Pink Eyes Male Characters Bald ', 1), ('Brown Eyes Female Characters Blue Hair ', 1), ('Red Eyes Male Characters Blue Hair ', 1), ('Pink Eyes Female Characters Pink Hair ', 1), ('Blue Eyes Male Characters Pink Hair ', 1), ('Black Eyes Female Characters Bald ', 1), ('White Eyes Female Characters Purple Hair ', 1), ('Blue Eyes Male Characters Light Brown Hair ', 1), ('none Male Characters Gold Hair ', 1), ('Black Eyes Female Characters White Hair ', 1), ('Grey Eyes Male Characters Blond Hair ', 1), ('Black Eyes Female Characters Red Hair ', 1), ('One Eye Male Characters none ', 1), ('Yellow Eyeballs Male Characters Black Hair ', 1), ('Black Eyes Female Characters Grey Hair ', 1), ('Red Eyes Female Characters Blond Hair ', 1), ('White Eyes Male Characters Green Hair ', 1), ('White Eyes Female Characters White Hair ', 1), ('Blue Eyes Female Characters Pink Hair ', 1), ('Amber Eyes Male Characters Brown Hair ', 1), ('Compound Eyes Male Characters none ', 1), ('Violet Eyes Male Characters none ', 1), ('Violet Eyes Male Characters No Hair ', 1), ('Brown Eyes none Black Hair ', 1), ('Black Eyes none none ', 1), ('Blue Eyes Male Characters Orange Hair ', 1), ('Variable Eyes Male Characters Black Hair ', 1), ('none Female Characters Purple Hair ', 1), ('Hazel Eyes Male Characters White Hair ', 1), ('Purple Eyes Male Characters Black Hair ', 1), ('Violet Eyes Female Characters Brown Hair ', 1), ('none Female Characters Magenta Hair ', 1), ('Red Eyes none Grey Hair ', 1), ('Green Eyes Male Characters Bald ', 1), ('White Eyes none Black Hair ', 1), ('none Female Characters Silver Hair ', 1), ('Brown Eyes none none ', 1), ('none Female Characters Yellow Hair ', 1), ('Black Eyes Male Characters Red Hair ', 1), ('Black Eyes none Brown Hair ', 1), ('One Eye Male Characters Bald ', 1), ('Orange Eyes Female Characters Red Hair ', 1), ('none Male Characters Pink Hair ', 1), ('Variable Eyes Male Characters Brown Hair ', 1), ('Red Eyes Male Characters Purple Hair ', 1), ('Pink Eyes Male Characters No Hair ', 1), ('Multiple Eyes Male Characters Blond Hair ', 1), ('Green Eyes none none ', 1), ('Red Eyes Female Characters Bald ', 1), ('Black Eyes none Bald ', 1), ('Red Eyes none Bald ', 1), ('Grey Eyes Male Characters White Hair ', 1), ('Black Eyes none Grey Hair ', 1), ('Silver Eyes Female Characters Silver Hair ', 1), ('Red Eyes none Black Hair ', 1), ('Pink Eyes Male Characters Purple Hair ', 1), ('Pink Eyes Female Characters White Hair ', 1), ('Pink Eyes Male Characters Yellow Hair ', 1), ('Pink Eyes Male Characters Pink Hair ', 1), ('Yellow Eyes Male Characters Yellow Hair ', 1), ('Black Eyes Male Characters Blue Hair ', 1), ('Red Eyes Agender Characters No Hair ', 1)]\n",
            "[('Secret Identity Bad Characters ', 891), ('Public Identity Bad Characters ', 721), ('Public Identity Good Characters ', 524), ('none Bad Characters ', 370), ('Public Identity Neutral Characters ', 332), ('none Neutral Characters ', 284), ('Secret Identity Good Characters ', 262), ('No Dual Identity Good Characters ', 223), ('No Dual Identity Bad Characters ', 222), ('Secret Identity Neutral Characters ', 191), ('No Dual Identity Neutral Characters ', 166), ('none Good Characters ', 129), ('Known to Authorities Identity Good Characters ', 1), ('Known to Authorities Identity Bad Characters ', 1)]\n",
            "[('Secret Identity Bad Characters ', 1213), ('none Bad Characters ', 708), ('none Neutral Characters ', 642), ('Secret Identity Neutral Characters ', 615), ('Secret Identity Good Characters ', 527), ('Public Identity Good Characters ', 521), ('Public Identity Neutral Characters ', 518), ('Public Identity Bad Characters ', 401), ('none Good Characters ', 306), ('No Dual Identity Neutral Characters ', 218), ('No Dual Identity Good Characters ', 177), ('No Dual Identity Bad Characters ', 120), ('Known to Authorities Identity Good Characters ', 4), ('Known to Authorities Identity Neutral Characters ', 2)]\n"
          ],
          "name": "stdout"
        }
      ]
    },
    {
      "cell_type": "markdown",
      "metadata": {
        "id": "D8uVXlUKu-0H"
      },
      "source": [
        "#### split 2000 part\n"
      ]
    },
    {
      "cell_type": "code",
      "metadata": {
        "colab": {
          "base_uri": "https://localhost:8080/"
        },
        "id": "xO8oQIyRvBdL",
        "outputId": "a0444683-2097-4a37-a483-1410576573fd"
      },
      "source": [
        "#eye hair sex\n",
        "counter_mv_b00_ehs = sorted(collisioncounter(mv_df_b00_esh['combined']).items(), key=lambda x:x[1], reverse=True)\n",
        "counter_mv_a00_ehs = sorted(collisioncounter(mv_df_a00_esh['combined']).items(), key=lambda x:x[1], reverse=True)\n",
        "print(counter_mv_b00_ehs)\n",
        "print(counter_mv_a00_ehs)\n",
        "#id align:\n",
        "counter_mv_b00_id = sorted(collisioncounter(mv_df_b00_id['combined']).items(), key=lambda x:x[1], reverse=True)\n",
        "counter_mv_a00_id = sorted(collisioncounter(mv_df_a00_id['combined']).items(), key=lambda x:x[1], reverse=True)\n",
        "print(counter_mv_b00_id)\n",
        "print(counter_mv_a00_id)"
      ],
      "execution_count": null,
      "outputs": [
        {
          "output_type": "stream",
          "text": [
            "[('none Male Characters none ', 774), ('none Male Characters Black Hair ', 282), ('none Male Characters Brown Hair ', 209), ('none Female Characters none ', 187), ('Brown Eyes Male Characters Black Hair ', 136), ('none Female Characters Black Hair ', 135), ('none none none ', 113), ('none Male Characters Blond Hair ', 103), ('none Male Characters Bald ', 98), ('none Male Characters No Hair ', 92), ('none Female Characters Blond Hair ', 81), ('Brown Eyes Male Characters Brown Hair ', 80), ('Blue Eyes Female Characters Blond Hair ', 79), ('Brown Eyes Female Characters Black Hair ', 73), ('Blue Eyes Male Characters Blond Hair ', 68), ('none Female Characters Brown Hair ', 68), ('none Male Characters White Hair ', 57), ('none Male Characters Grey Hair ', 53), ('none none No Hair ', 52), ('none Female Characters Red Hair ', 48), ('none Male Characters Red Hair ', 47), ('Blue Eyes Male Characters Black Hair ', 46), ('Blue Eyes Male Characters Brown Hair ', 39), ('Blue Eyes Female Characters Black Hair ', 36), ('Brown Eyes Female Characters Brown Hair ', 32), ('Black Eyes Male Characters Black Hair ', 32), ('Red Eyes Male Characters No Hair ', 28), ('White Eyes Male Characters No Hair ', 28), ('White Eyes Male Characters none ', 27), ('Black Eyes Female Characters Black Hair ', 26), ('Brown Eyes Male Characters Bald ', 24), ('Green Eyes Male Characters No Hair ', 22), ('none Female Characters White Hair ', 21), ('Blue Eyes Female Characters Brown Hair ', 21), ('Blue Eyes Male Characters White Hair ', 19), ('Blue Eyes Female Characters Red Hair ', 17), ('Red Eyes Male Characters none ', 16), ('Yellow Eyes Male Characters No Hair ', 14), ('Red Eyes Male Characters Black Hair ', 13), ('White Eyes Male Characters White Hair ', 12), ('Brown Eyes Male Characters Blond Hair ', 12), ('Red Eyes Male Characters Bald ', 12), ('Red Eyes Male Characters Brown Hair ', 12), ('Green Eyes Female Characters Black Hair ', 11), ('Blue Eyes Male Characters Red Hair ', 11), ('White Eyes Male Characters Bald ', 11), ('Brown Eyes Male Characters none ', 11), ('White Eyes Male Characters Black Hair ', 10), ('Green Eyes Female Characters Red Hair ', 10), ('Black Eyes Male Characters Brown Hair ', 10), ('Red Eyes none No Hair ', 10), ('Green Eyes Male Characters Red Hair ', 9), ('none Female Characters Grey Hair ', 9), ('Blue Eyes Male Characters No Hair ', 9), ('Red Eyes Male Characters White Hair ', 8), ('Blue Eyes Male Characters Grey Hair ', 8), ('Black Eyes Male Characters No Hair ', 8), ('Brown Eyes Female Characters Blond Hair ', 8), ('Black Eyes Male Characters Bald ', 8), ('none Female Characters Bald ', 8), ('Green Eyes Male Characters Black Hair ', 8), ('Yellow Eyes Male Characters Black Hair ', 8), ('Blue Eyes Male Characters none ', 8), ('Green Eyes Male Characters Brown Hair ', 7), ('White Eyes Female Characters Blond Hair ', 7), ('Green Eyes Female Characters Blond Hair ', 7), ('none Male Characters Purple Hair ', 7), ('none Female Characters Blue Hair ', 7), ('none Male Characters Green Hair ', 7), ('Red Eyes Male Characters Blond Hair ', 6), ('Blue Eyes Male Characters Bald ', 6), ('none Female Characters Auburn Hair ', 6), ('Orange Eyes Male Characters No Hair ', 6), ('White Eyes Female Characters Black Hair ', 6), ('none Male Characters Orange Hair ', 6), ('Brown Eyes Male Characters Grey Hair ', 6), ('none Female Characters No Hair ', 6), ('White Eyes none No Hair ', 6), ('none Male Characters Auburn Hair ', 6), ('Hazel Eyes Male Characters Brown Hair ', 5), ('Red Eyes Male Characters Red Hair ', 5), ('Blue Eyes Female Characters none ', 5), ('Yellow Eyes Male Characters White Hair ', 5), ('Blue Eyes Female Characters Grey Hair ', 5), ('Red Eyes Female Characters Red Hair ', 5), ('Green Eyes Male Characters Green Hair ', 5), ('Brown Eyes Female Characters none ', 5), ('Grey Eyes Male Characters Brown Hair ', 5), ('Brown Eyes Male Characters White Hair ', 4), ('Yellow Eyes Female Characters Black Hair ', 4), ('Red Eyes Male Characters Grey Hair ', 4), ('Blue Eyes Female Characters Auburn Hair ', 4), ('Red Eyes none none ', 4), ('White Eyes Agender Characters Bald ', 4), ('Blue Eyes Female Characters White Hair ', 4), ('Green Eyes Female Characters Brown Hair ', 4), ('Black Eyes Male Characters none ', 4), ('White Eyes Male Characters Brown Hair ', 4), ('none Female Characters Green Hair ', 4), ('Green Eyes Male Characters none ', 4), ('Black Eyes Male Characters Green Hair ', 4), ('none Female Characters Purple Hair ', 4), ('Yellow Eyes none No Hair ', 4), ('Yellow Eyes Male Characters Blond Hair ', 4), ('White Eyes Agender Characters No Hair ', 3), ('Blue Eyes Female Characters Blue Hair ', 3), ('Green Eyes Female Characters none ', 3), ('Black Eyes Female Characters Blond Hair ', 3), ('White Eyes Male Characters Blond Hair ', 3), ('Yellow Eyes Male Characters none ', 3), ('White Eyes Male Characters Grey Hair ', 3), ('Brown Eyes Female Characters Bald ', 3), ('Black Eyes Male Characters White Hair ', 3), ('Green Eyes Male Characters Blond Hair ', 3), ('Blue Eyes Female Characters Bald ', 3), ('Red Eyes Female Characters Black Hair ', 3), ('White Eyes Female Characters White Hair ', 3), ('none none Black Hair ', 3), ('Yellow Eyes Male Characters Bald ', 3), ('Brown Eyes Male Characters Red Hair ', 3), ('none none Blond Hair ', 3), ('none none Brown Hair ', 3), ('Hazel Eyes Male Characters White Hair ', 2), ('Red Eyes Female Characters White Hair ', 2), ('none Female Characters Pink Hair ', 2), ('Blue Eyes Male Characters Silver Hair ', 2), ('Grey Eyes Male Characters Grey Hair ', 2), ('Brown Eyes Female Characters White Hair ', 2), ('Red Eyes Female Characters Brown Hair ', 2), ('Variable Eyes Male Characters Variable Hair ', 2), ('Black Eyes Female Characters Blue Hair ', 2), ('Red Eyes Female Characters No Hair ', 2), ('Blue Eyes Female Characters Pink Hair ', 2), ('Green Eyes Male Characters Strawberry Blond Hair ', 2), ('Yellow Eyes Female Characters none ', 2), ('Black Eyes none No Hair ', 2), ('White Eyes Female Characters Purple Hair ', 2), ('none Male Characters Strawberry Blond Hair ', 2), ('Green Eyes Male Characters White Hair ', 2), ('Green Eyes Male Characters Bald ', 2), ('Black Eyes Female Characters Bald ', 2), ('White Eyes Female Characters Green Hair ', 2), ('Yellow Eyes Male Characters Green Hair ', 2), ('Green Eyes none No Hair ', 2), ('Red Eyes Female Characters Blond Hair ', 2), ('Grey Eyes Male Characters Bald ', 2), ('Blue Eyes none White Hair ', 2), ('Purple Eyes Male Characters Purple Hair ', 2), ('Grey Eyes Male Characters Black Hair ', 2), ('Black Eyes Female Characters none ', 2), ('Yellow Eyes Male Characters Brown Hair ', 2), ('Black Eyes Male Characters Blond Hair ', 2), ('White Eyes Female Characters none ', 2), ('Blue Eyes Male Characters Blue Hair ', 2), ('Black Eyes Male Characters Grey Hair ', 2), ('No Eyes none No Hair ', 2), ('Brown Eyes Female Characters Red Hair ', 2), ('Yellow Eyes none Black Hair ', 2), ('Black Eyes Male Characters Blue Hair ', 2), ('Black Eyeballs Male Characters Brown Hair ', 1), ('Yellow Eyes Female Characters Purple Hair ', 1), ('Brown Eyes Male Characters Light Brown Hair ', 1), ('Violet Eyes Female Characters Black Hair ', 1), ('Orange Eyes Male Characters Black Hair ', 1), ('Green Eyes Female Characters Auburn Hair ', 1), ('Blue Eyes Male Characters Purple Hair ', 1), ('Hazel Eyes Female Characters Blond Hair ', 1), ('Blue Eyes Female Characters Strawberry Blond Hair ', 1), ('Violet Eyes Female Characters Silver Hair ', 1), ('Blue Eyes none Black Hair ', 1), ('Green Eyes Female Characters Magenta Hair ', 1), ('Variable Eyes Female Characters Blond Hair ', 1), ('Pink Eyes Female Characters Black Hair ', 1), ('Green Eyes Female Characters White Hair ', 1), ('Hazel Eyes Female Characters Red Hair ', 1), ('Green Eyes Male Characters Orange Hair ', 1), ('Yellow Eyeballs Male Characters No Hair ', 1), ('White Eyes Female Characters Gold Hair ', 1), ('Yellow Eyes Female Characters White Hair ', 1), ('Grey Eyes Female Characters Black Hair ', 1), ('Variable Eyes Female Characters No Hair ', 1), ('One Eye Male Characters Brown Hair ', 1), ('Yellow Eyes Male Characters Red Hair ', 1), ('Yellow Eyes Female Characters Red Hair ', 1), ('Green Eyes none Black Hair ', 1), ('Green Eyes Male Characters Grey Hair ', 1), ('none Male Characters Light Brown Hair ', 1), ('Variable Eyes none Blue Hair ', 1), ('Black Eyes Female Characters Purple Hair ', 1), ('Blue Eyes Male Characters Reddish Blond Hair ', 1), ('Red Eyes none White Hair ', 1), ('Brown Eyes Male Characters Blue Hair ', 1), ('Grey Eyes Female Characters Grey Hair ', 1), ('none Female Characters Strawberry Blond Hair ', 1), ('Pink Eyes Female Characters No Hair ', 1), ('Green Eyes Female Characters Yellow Hair ', 1), ('Amber Eyes Female Characters Red Hair ', 1), ('White Eyes Male Characters Orange Hair ', 1), ('Blue Eyes Male Characters Strawberry Blond Hair ', 1), ('Red Eyes Male Characters Green Hair ', 1), ('Hazel Eyes Male Characters Bald ', 1), ('Silver Eyes Male Characters No Hair ', 1), ('Pink Eyes Female Characters Pink Hair ', 1), ('Blue Eyes Male Characters Pink Hair ', 1), ('Silver Eyes Female Characters Purple Hair ', 1), ('No Eyes Male Characters No Hair ', 1), ('Grey Eyes Male Characters none ', 1), ('Grey Eyes Female Characters Red Hair ', 1), ('Yellow Eyes Female Characters No Hair ', 1), ('One Eye Male Characters none ', 1), ('Brown Eyes Male Characters Green Hair ', 1), ('Red Eyes Female Characters Pink Hair ', 1), ('Gold Eyes Male Characters Black Hair ', 1), ('Red Eyes Female Characters Purple Hair ', 1), ('Blue Eyes none Bald ', 1), ('Green Eyes Male Characters Auburn Hair ', 1), ('White Eyes Male Characters Green Hair ', 1), ('Amber Eyes Male Characters Brown Hair ', 1), ('Black Eyes Female Characters Brown Hair ', 1), ('Silver Eyes Female Characters White Hair ', 1), ('none none Red Hair ', 1), ('none none White Hair ', 1), ('Yellow Eyes Female Characters Green Hair ', 1), ('none Male Characters Yellow Hair ', 1), ('Variable Eyes none No Hair ', 1), ('One Eye Male Characters Orange Hair ', 1), ('Variable Eyes Male Characters Black Hair ', 1), ('Purple Eyes Female Characters Black Hair ', 1), ('Variable Eyes Agender Characters Variable Hair ', 1), ('Red Eyes Female Characters Green Hair ', 1), ('none none Bald ', 1), ('none Male Characters Magenta Hair ', 1), ('none Female Characters Orange Hair ', 1), ('Purple Eyes Male Characters No Hair ', 1), ('none Female Characters Magenta Hair ', 1), ('Variable Eyes Female Characters Variable Hair ', 1), ('Red Eyes none Grey Hair ', 1), ('White Eyes Female Characters Brown Hair ', 1), ('Brown Eyes Female Characters Grey Hair ', 1), ('White Eyes none Black Hair ', 1), ('Black Eyes Female Characters Red Hair ', 1), ('none Male Characters Pink Hair ', 1), ('Variable Eyes Male Characters Brown Hair ', 1), ('Red Eyes Male Characters Purple Hair ', 1), ('Purple Eyes Female Characters Purple Hair ', 1), ('Pink Eyes Male Characters Black Hair ', 1), ('Blue Eyes Female Characters No Hair ', 1), ('Pink Eyes Male Characters No Hair ', 1), ('Multiple Eyes Male Characters Blond Hair ', 1), ('Green Eyes none none ', 1), ('Red Eyes Female Characters Bald ', 1), ('Black Eyes none Bald ', 1), ('Red Eyes none Bald ', 1), ('Grey Eyes Male Characters White Hair ', 1), ('Black Eyes Agender Characters No Hair ', 1), ('Black Eyes none Grey Hair ', 1), ('Brown Eyes Male Characters No Hair ', 1), ('Silver Eyes none No Hair ', 1), ('none Agender Characters none ', 1), ('Black Eyes Male Characters Red Hair ', 1), ('none Agender Characters No Hair ', 1), ('Blue Eyes Female Characters Orange Hair ', 1), ('Grey Eyes Male Characters No Hair ', 1), ('Blue Eyes none Blond Hair ', 1), ('Yellow Eyes Male Characters Yellow Hair ', 1), ('White Eyes Female Characters Silver Hair ', 1), ('White Eyes Male Characters Red Hair ', 1), ('Green Eyes Female Characters No Hair ', 1), ('Green Eyes Female Characters Green Hair ', 1), ('none Male Characters Blue Hair ', 1), ('Red Eyes Agender Characters No Hair ', 1), ('Red Eyes Male Characters Variable Hair ', 1)]\n",
            "[('none Male Characters none ', 547), ('none Male Characters Black Hair ', 203), ('Brown Eyes Male Characters Brown Hair ', 157), ('none Male Characters Brown Hair ', 153), ('Brown Eyes Male Characters Black Hair ', 147), ('none Female Characters none ', 131), ('Brown Eyes Female Characters Black Hair ', 121), ('Blue Eyes Male Characters Blond Hair ', 97), ('Blue Eyes Female Characters Blond Hair ', 94), ('none Female Characters Black Hair ', 85), ('none none none ', 78), ('Brown Eyes Female Characters Brown Hair ', 74), ('Blue Eyes Male Characters Black Hair ', 71), ('Green Eyes Male Characters No Hair ', 67), ('none Male Characters Bald ', 66), ('Black Eyes Male Characters Black Hair ', 65), ('Blue Eyes Male Characters Brown Hair ', 65), ('none Male Characters Blond Hair ', 63), ('none Female Characters Blond Hair ', 62), ('none Male Characters No Hair ', 49), ('Brown Eyes Male Characters Bald ', 45), ('none Female Characters Brown Hair ', 45), ('Blue Eyes Female Characters Black Hair ', 40), ('Red Eyes Male Characters No Hair ', 36), ('none Male Characters Grey Hair ', 35), ('Black Eyes Female Characters Black Hair ', 32), ('Green Eyes Female Characters Red Hair ', 29), ('none Female Characters Red Hair ', 29), ('none Male Characters White Hair ', 27), ('Blue Eyes Male Characters Bald ', 23), ('Green Eyes Female Characters Blond Hair ', 22), ('Green Eyes Female Characters Black Hair ', 21), ('none none No Hair ', 20), ('Yellow Eyes Male Characters No Hair ', 20), ('Brown Eyes Female Characters Blond Hair ', 20), ('Blue Eyes Male Characters Grey Hair ', 20), ('Brown Eyes Male Characters Blond Hair ', 20), ('none Male Characters Red Hair ', 20), ('none Female Characters No Hair ', 19), ('Blue Eyes Female Characters Brown Hair ', 19), ('Brown Eyes Male Characters Grey Hair ', 19), ('Green Eyes Female Characters Brown Hair ', 17), ('Blue Eyes Male Characters No Hair ', 17), ('Red Eyes none No Hair ', 17), ('White Eyes Male Characters No Hair ', 16), ('Green Eyes Male Characters Black Hair ', 16), ('Blue Eyes Male Characters White Hair ', 16), ('Red Eyes Male Characters none ', 16), ('Brown Eyes Male Characters White Hair ', 15), ('Black Eyes Male Characters No Hair ', 15), ('Blue Eyes Female Characters Red Hair ', 14), ('Red Eyes Male Characters Bald ', 13), ('Black Eyes Male Characters Bald ', 13), ('White Eyes Female Characters Black Hair ', 12), ('none Female Characters White Hair ', 12), ('Green Eyes Male Characters Brown Hair ', 11), ('Green Eyes Female Characters No Hair ', 11), ('Blue Eyes Male Characters none ', 11), ('Blue Eyes Male Characters Red Hair ', 10), ('Red Eyes Female Characters Black Hair ', 10), ('Black Eyes Male Characters Brown Hair ', 10), ('Black Eyes Male Characters White Hair ', 10), ('Red Eyes Male Characters Black Hair ', 10), ('Brown Eyes Female Characters Red Hair ', 10), ('Yellow Eyes Female Characters No Hair ', 9), ('White Eyes Male Characters Bald ', 9), ('White Eyes Male Characters Brown Hair ', 9), ('White Eyes Male Characters none ', 9), ('Red Eyes Male Characters Brown Hair ', 9), ('Green Eyes Male Characters Red Hair ', 9), ('none Female Characters Grey Hair ', 8), ('Yellow Eyes Female Characters Black Hair ', 8), ('Brown Eyes Male Characters none ', 8), ('Hazel Eyes Male Characters Brown Hair ', 8), ('White Eyes Male Characters Black Hair ', 8), ('none Female Characters Bald ', 8), ('Green Eyes Female Characters Green Hair ', 7), ('Green Eyes Male Characters Blond Hair ', 7), ('Green Eyes Male Characters Grey Hair ', 7), ('Black Eyes Female Characters Brown Hair ', 7), ('Yellow Eyes Male Characters Bald ', 7), ('Blue Eyes Female Characters White Hair ', 6), ('White Eyes Male Characters White Hair ', 6), ('Hazel Eyes Male Characters Black Hair ', 6), ('Grey Eyes Male Characters Black Hair ', 6), ('Green Eyes Male Characters none ', 6), ('Blue Eyes Female Characters none ', 6), ('Red Eyes Female Characters Red Hair ', 6), ('Yellow Eyes Male Characters Black Hair ', 6), ('Brown Eyes Female Characters White Hair ', 6), ('Orange Eyes Male Characters No Hair ', 6), ('Yellow Eyes Male Characters Red Hair ', 6), ('Brown Eyes Male Characters No Hair ', 5), ('White Eyes Male Characters Grey Hair ', 5), ('Blue Eyes Female Characters No Hair ', 5), ('Green Eyes Male Characters Bald ', 5), ('Red Eyes Male Characters Grey Hair ', 5), ('Red Eyes Male Characters White Hair ', 5), ('Black Eyes Male Characters Grey Hair ', 5), ('Black Eyes Male Characters none ', 5), ('Blue Eyes Female Characters Auburn Hair ', 5), ('Yellow Eyes Male Characters none ', 5), ('One Eye Male Characters Bald ', 4), ('Red Eyes Female Characters No Hair ', 4), ('Brown Eyes Female Characters Bald ', 4), ('Grey Eyes Male Characters Brown Hair ', 4), ('White Eyes Female Characters White Hair ', 4), ('Variable Eyes Male Characters Variable Hair ', 4), ('Red Eyes Female Characters Brown Hair ', 4), ('Red Eyes Male Characters Blond Hair ', 4), ('Brown Eyes Male Characters Red Hair ', 4), ('Hazel Eyes Female Characters Brown Hair ', 3), ('Green Eyes Male Characters White Hair ', 3), ('Red Eyes Male Characters Red Hair ', 3), ('Brown Eyes Male Characters Auburn Hair ', 3), ('Grey Eyes Male Characters White Hair ', 3), ('none Agender Characters none ', 3), ('Grey Eyes Male Characters Grey Hair ', 3), ('Red Eyes Female Characters White Hair ', 3), ('Green Eyes Female Characters Auburn Hair ', 3), ('Purple Eyes Female Characters Purple Hair ', 3), ('Grey Eyes Female Characters White Hair ', 3), ('Red Eyes none none ', 3), ('none Female Characters Orange Hair ', 3), ('none Female Characters Green Hair ', 3), ('Yellow Eyes Female Characters Brown Hair ', 3), ('White Eyes Male Characters Blond Hair ', 3), ('none Male Characters Green Hair ', 3), ('Red Eyes Female Characters none ', 3), ('Black Eyeballs Female Characters Pink Hair ', 2), ('Silver Eyes Female Characters Red Hair ', 2), ('Gold Eyes Male Characters Black Hair ', 2), ('Brown Eyes Female Characters Pink Hair ', 2), ('Variable Eyes Agender Characters No Hair ', 2), ('Green Eyes Female Characters Pink Hair ', 2), ('Red Eyes Agender Characters No Hair ', 2), ('Blue Eyes none No Hair ', 2), ('Brown Eyes Female Characters Grey Hair ', 2), ('Yellow Eyes Female Characters Red Hair ', 2), ('Yellow Eyes Male Characters Brown Hair ', 2), ('Green Eyes Male Characters Green Hair ', 2), ('Black Eyes Female Characters Grey Hair ', 2), ('none Female Characters Blue Hair ', 2), ('White Eyes Male Characters Blue Hair ', 2), ('White Eyes Female Characters No Hair ', 2), ('White Eyes Female Characters Red Hair ', 2), ('Grey Eyes Female Characters Black Hair ', 2), ('Red Eyes Female Characters Blond Hair ', 2), ('Yellow Eyes Female Characters Bald ', 2), ('White Eyes Female Characters Blue Hair ', 2), ('Green Eyes Female Characters Grey Hair ', 2), ('White Eyes Female Characters Blond Hair ', 2), ('Green Eyes none No Hair ', 2), ('Grey Eyes Male Characters Blond Hair ', 2), ('Blue Eyes Female Characters Grey Hair ', 2), ('Brown Eyes Female Characters Auburn Hair ', 2), ('none Female Characters Auburn Hair ', 2), ('Yellow Eyes Agender Characters No Hair ', 2), ('Variable Eyes Male Characters No Hair ', 2), ('White Eyes Female Characters Brown Hair ', 2), ('Black Eyes Female Characters Blond Hair ', 2), ('Green Eyes Female Characters White Hair ', 2), ('Yellow Eyes Male Characters Grey Hair ', 2), ('Black Eyes Female Characters Pink Hair ', 2), ('none Male Characters Pink Hair ', 2), ('Black Eyes Female Characters Red Hair ', 2), ('Green Eyes none none ', 2), ('Hazel Eyes Male Characters Blond Hair ', 2), ('Blue Eyes Male Characters Blue Hair ', 2), ('Blue Eyes Female Characters Blue Hair ', 2), ('White Eyes Female Characters none ', 2), ('Green Eyes Female Characters none ', 2), ('Gold Eyes Male Characters No Hair ', 1), ('Variable Eyes Male Characters Black Hair ', 1), ('Hazel Eyes Female Characters Black Hair ', 1), ('Purple Eyes Male Characters White Hair ', 1), ('Hazel Eyes Female Characters Red Hair ', 1), ('Brown Eyes Genderfluid Characters Brown Hair ', 1), ('Silver Eyes none No Hair ', 1), ('Brown Eyes Agender Characters Bald ', 1), ('Multiple Eyes Male Characters No Hair ', 1), ('Multiple Eyes Female Characters No Hair ', 1), ('Yellow Eyes Female Characters Green Hair ', 1), ('Pink Eyes none Bald ', 1), ('Blue Eyes Female Characters Purple Hair ', 1), ('Hazel Eyes Female Characters Blond Hair ', 1), ('Blue Eyes Female Characters Strawberry Blond Hair ', 1), ('Grey Eyes Female Characters Blond Hair ', 1), ('Hazel Eyes Male Characters Reddish Blond Hair ', 1), ('Green Eyes Female Characters Strawberry Blond Hair ', 1), ('Blue Eyes none Bald ', 1), ('Amber Eyes Male Characters Grey Hair ', 1), ('Orange Eyes Male Characters Reddish Blond Hair ', 1), ('none Male Characters Yellow Hair ', 1), ('Black Eyes Male Characters Blond Hair ', 1), ('White Eyes Male Characters Red Hair ', 1), ('No Eyes Female Characters Bald ', 1), ('White Eyes Female Characters Green Hair ', 1), ('White Eyes Agender Characters Bald ', 1), ('Black Eyes Female Characters Auburn Hair ', 1), ('Pink Eyes Male Characters No Hair ', 1), ('White Eyes Female Characters Auburn Hair ', 1), ('Grey Eyes Female Characters Red Hair ', 1), ('Purple Eyes Male Characters No Hair ', 1), ('Purple Eyes Female Characters Black Hair ', 1), ('Variable Eyes none No Hair ', 1), ('Red Eyes Female Characters Green Hair ', 1), ('Blue Eyes Male Characters Auburn Hair ', 1), ('Yellow Eyes Female Characters Blue Hair ', 1), ('One Eye Male Characters Black Hair ', 1), ('Green Eyes Agender Characters No Hair ', 1), ('White Eyes Agender Characters No Hair ', 1), ('Yellow Eyes Male Characters White Hair ', 1), ('Green Eyes Male Characters Orange Hair ', 1), ('Yellow Eyeballs Female Characters Black Hair ', 1), ('White Eyes Female Characters Orange Hair ', 1), ('No Eyes Male Characters Bald ', 1), ('Red Eyes Female Characters Auburn Hair ', 1), ('White Eyes Female Characters Bald ', 1), ('none Female Characters Dyed Hair ', 1), ('Blue Eyes Male Characters Reddish Blond Hair ', 1), ('Brown Eyes Female Characters Purple Hair ', 1), ('Red Eyes Male Characters Blue Hair ', 1), ('Blue Eyes Female Characters Pink Hair ', 1), ('Green Eyes none Green Hair ', 1), ('Yellow Eyes Male Characters Silver Hair ', 1), ('Violet Eyes Female Characters Black Hair ', 1), ('Gold Eyes none No Hair ', 1), ('none Female Characters Yellow Hair ', 1), ('Green Eyes Female Characters Orange Hair ', 1), ('Brown Eyes Male Characters Green Hair ', 1), ('Green Eyes Male Characters Pink Hair ', 1), ('Blue Eyes Male Characters Orange Hair ', 1), ('Green Eyes Female Characters Purple Hair ', 1), ('Yellow Eyeballs Female Characters Green Hair ', 1), ('Hazel Eyes Male Characters Green Hair ', 1), ('White Eyes Male Characters Variable Hair ', 1), ('Violet Eyes Male Characters Black Hair ', 1), ('Amber Eyes Male Characters Bald ', 1), ('Orange Eyes none No Hair ', 1), ('none Female Characters Pink Hair ', 1), ('Green Eyes none White Hair ', 1), ('none Male Characters Blue Hair ', 1), ('Brown Eyes Female Characters none ', 1), ('Yellow Eyes none Green Hair ', 1), ('Orange Eyes Male Characters Bald ', 1), ('Orange Eyes Female Characters Black Hair ', 1), ('Blue Eyes Male Characters Silver Hair ', 1), ('Green Eyes Male Characters Yellow Hair ', 1), ('Hazel Eyes Male Characters none ', 1), ('none Male Characters Auburn Hair ', 1), ('none Female Characters Strawberry Blond Hair ', 1), ('Multiple Eyes Male Characters none ', 1), ('Yellow Eyes none Brown Hair ', 1), ('Orange Eyes Male Characters White Hair ', 1), ('Black Eyes Male Characters Red Hair ', 1), ('Black Eyes none No Hair ', 1), ('White Eyes none none ', 1), ('One Eye Male Characters No Hair ', 1), ('Blue Eyes Female Characters Bald ', 1), ('Blue Eyes Female Characters Yellow Hair ', 1), ('Red Eyes Female Characters Pink Hair ', 1), ('Blue Eyes Female Characters Green Hair ', 1), ('Yellow Eyes Female Characters none ', 1), ('Variable Eyes Female Characters Variable Hair ', 1), ('Yellow Eyes Female Characters Blond Hair ', 1), ('Black Eyes Male Characters Blue Hair ', 1), ('none none Brown Hair ', 1), ('none Female Characters Purple Hair ', 1), ('Yellow Eyeballs Male Characters No Hair ', 1), ('Yellow Eyes Male Characters Purple Hair ', 1), ('Yellow Eyes Male Characters Orange Hair ', 1), ('none Male Characters Orange Hair ', 1), ('Black Eyes Female Characters White Hair ', 1), ('Gold Eyes Female Characters Blond Hair ', 1), ('Purple Eyes Female Characters none ', 1), ('Purple Eyes none No Hair ', 1), ('Grey Eyes Female Characters Grey Hair ', 1), ('none Male Characters Purple Hair ', 1), ('Red Eyes Male Characters Pink Hair ', 1), ('Grey Eyes Male Characters No Hair ', 1), ('Hazel Eyes Male Characters White Hair ', 1), ('none none Bald ', 1), ('Red Eyes Male Characters Orange Hair ', 1), ('One Eye Female Characters Red Hair ', 1), ('none none White Hair ', 1), ('White Eyes none No Hair ', 1), ('none none Grey Hair ', 1), ('Grey Eyes Female Characters Brown Hair ', 1), ('none none Red Hair ', 1)]\n",
            "[('Secret Identity Bad Characters ', 949), ('none Bad Characters ', 519), ('Secret Identity Neutral Characters ', 439), ('none Neutral Characters ', 401), ('Secret Identity Good Characters ', 398), ('Public Identity Neutral Characters ', 336), ('Public Identity Good Characters ', 309), ('Public Identity Bad Characters ', 208), ('none Good Characters ', 175), ('No Dual Identity Neutral Characters ', 114), ('No Dual Identity Good Characters ', 78), ('No Dual Identity Bad Characters ', 50), ('Known to Authorities Identity Good Characters ', 1), ('Known to Authorities Identity Neutral Characters ', 1), ('Known to Authorities Identity Bad Characters ', 1)]\n",
            "[('Secret Identity Bad Characters ', 686), ('Secret Identity Good Characters ', 564), ('Secret Identity Neutral Characters ', 417), ('Public Identity Neutral Characters ', 402), ('Public Identity Good Characters ', 387), ('none Neutral Characters ', 297), ('Public Identity Bad Characters ', 233), ('none Bad Characters ', 233), ('none Good Characters ', 192), ('No Dual Identity Neutral Characters ', 173), ('No Dual Identity Good Characters ', 145), ('No Dual Identity Bad Characters ', 70), ('Known to Authorities Identity Good Characters ', 5), ('Known to Authorities Identity Bad Characters ', 1)]\n"
          ],
          "name": "stdout"
        }
      ]
    },
    {
      "cell_type": "code",
      "metadata": {
        "colab": {
          "base_uri": "https://localhost:8080/",
          "height": 282
        },
        "id": "HoneAwH7kfLY",
        "outputId": "3c4119fd-b691-46be-8591-db3a8914f212"
      },
      "source": [
        "bkeys = hashed_bf.keys()\n",
        "bvalues = hashed_bf.values()\n",
        "plt.bar(bkeys,bvalues )\n",
        "akeys = hashed_aft.keys()\n",
        "avalues = hashed_aft.values()\n",
        "plt.bar(akeys, avalues)\n",
        "plt.figure(figsize=(12,6))\n",
        "plt.ylabel = \"Collisions\"\n",
        "plt.xlabel = \" \""
      ],
      "execution_count": null,
      "outputs": [
        {
          "output_type": "display_data",
          "data": {
            "image/png": "[encoded data removed]",
            "text/plain": [
              "<Figure size 432x288 with 1 Axes>"
            ]
          },
          "metadata": {
            "tags": [],
            "needs_background": "light"
          }
        },
        {
          "output_type": "display_data",
          "data": {
            "text/plain": [
              "<Figure size 864x432 with 0 Axes>"
            ]
          },
          "metadata": {
            "tags": []
          }
        }
      ]
    },
    {
      "cell_type": "code",
      "metadata": {
        "id": "wOWO_T1quYgZ"
      },
      "source": [
        ""
      ],
      "execution_count": null,
      "outputs": []
    },
    {
      "cell_type": "code",
      "metadata": {
        "id": "PM6AlktmuYaw"
      },
      "source": [
        ""
      ],
      "execution_count": null,
      "outputs": []
    },
    {
      "cell_type": "markdown",
      "metadata": {
        "id": "yfPicXAEuYSA"
      },
      "source": [
        ""
      ]
    },
    {
      "cell_type": "markdown",
      "metadata": {
        "id": "BliVZhkOuX9V"
      },
      "source": [
        ""
      ]
    },
    {
      "cell_type": "code",
      "metadata": {
        "id": "fqqeFYQzuYj7"
      },
      "source": [
        "## Example code Jaccard similarity\n",
        "dc_esh_aft1975 = open('DC_eyesexhair_aft1975.txt','r').read()\n",
        "print(len(dc_esh_aft1975))\n",
        "print(dc_esh_aft1975)\n",
        "dc_esh_bef1975 = open('DC_eyesexhair_bef1975.txt','r').read()\n",
        "print(len(dc_esh_bef1975))\n",
        "print(dc_esh_bef1975)\n",
        "\n",
        "\n",
        "w_a1975 = dc_esh_aft1975.split()\n",
        "w_b1975 = dc_esh_bef1975.split()\n",
        "print(w_a1975)\n",
        "print(w_b1975)\n",
        "print(sim(set(w_a1975), set(w_b1975)))"
      ],
      "execution_count": null,
      "outputs": []
    }
  ]
}