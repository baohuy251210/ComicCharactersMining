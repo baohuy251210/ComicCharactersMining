{
 "cells": [
  {
   "cell_type": "code",
   "execution_count": 1,
   "metadata": {},
   "outputs": [],
   "source": [
    "import pandas as pd\n",
    "import numpy as np\n",
    "# Visualizations\n",
    "import matplotlib.pyplot as plt\n",
    "from matplotlib import rcParams\n",
    "import seaborn as sns\n",
    "%matplotlib inline\n",
    "from pandas.plotting import scatter_matrix\n",
    "\n",
    "# Algorithms\n",
    "from sklearn import linear_model\n",
    "from sklearn.linear_model import LogisticRegression\n",
    "from sklearn.ensemble import RandomForestClassifier, AdaBoostClassifier, GradientBoostingClassifier, RandomForestRegressor, AdaBoostRegressor, GradientBoostingRegressor\n",
    "from sklearn.linear_model import Perceptron\n",
    "from sklearn.linear_model import SGDClassifier\n",
    "from sklearn.neighbors import KNeighborsClassifier\n",
    "from sklearn.svm import SVC, LinearSVC\n",
    "from sklearn.model_selection import cross_val_score\n",
    "from sklearn.naive_bayes import GaussianNB\n",
    "from sklearn.model_selection import train_test_split\n",
    "from sklearn import preprocessing\n",
    "from sklearn.preprocessing import StandardScaler, MinMaxScaler\n",
    "from sklearn.metrics import confusion_matrix,classification_report,accuracy_score\n",
    "from sklearn import svm\n",
    "import xgboost as xgb\n",
    "from xgboost import XGBClassifier, plot_importance\n",
    "from sklearn.model_selection import KFold #for K-fold cross validation\n",
    "from sklearn.model_selection import cross_val_score #score evaluation\n",
    "from sklearn.model_selection import cross_val_predict #prediction"
   ]
  },
  {
   "cell_type": "code",
   "execution_count": 87,
   "metadata": {},
   "outputs": [],
   "source": [
    "##HELPER METHODS\n",
    "def featuresprocess(df):\n",
    "    '''\n",
    "    Use to map features of df \n",
    "      usually called for both df_train and df_test to line them up\n",
    "    '''\n",
    "    resdf = df.copy()\n",
    "    resdf = resdf.fillna('Unknown')\n",
    "    resdf.drop(['gsm'], axis = 1, inplace = True)\n",
    "    resdf.drop(['page_id'], axis = 1, inplace = True)\n",
    "    resdf.drop(['urlslug'], axis = 1, inplace = True)\n",
    "    resdf.drop(['first appearance'], axis = 1, inplace = True)\n",
    "    resdf.drop(['name'], axis = 1, inplace = True)\n",
    "#     resdf.drop(['year'],axis = 1, inplace = True)\n",
    "#     resdf.drop(['id','align'],axis = 1, inplace = True)\n",
    "#     resdf.drop(['alive'],axis = 1, inplace = True)\n",
    "#     resdf.drop(['eye','sex', 'hair'],axis = 1, inplace = True)\n",
    "    return resdf\n",
    "\n",
    "def split_XYtrain_data(df, test_size=0.2, random_state=0):\n",
    "  '''Only use for train data (with income>50k label)\n",
    "  Return Xtrain, Xtest, Ytrain, Ytest\n",
    "  '''\n",
    "  X = df.drop(labels=['appearances'],axis=1)\n",
    "  Y = df['appearances']\n",
    "  return  train_test_split(X, Y, test_size =test_size, random_state = random_state)\n",
    "\n",
    "def encode_features(df_train, df_test, onlyone=False):\n",
    "  '''\n",
    "  Encode labels for two X data sets\n",
    "  -If use for split test and train. Pass in Xtrain and Xtest\n",
    "  -If use for real test and full train. Pass in full X data train, Xtest_kaggle\n",
    "  '''\n",
    "  df_combined = pd.concat([df_train, df_test])\n",
    "  categorical = [column for column in df_combined if df_combined.dtypes[column] == np.object]\n",
    "  # categorical = ['workclass','education', 'marital.status', 'occupation', 'relationship','race', 'sex']#drop native.country\n",
    "  for feature in categorical:\n",
    "    encoder = preprocessing.LabelEncoder()\n",
    "    encoder = encoder.fit(df_combined[feature])\n",
    "    df_train[feature] = encoder.transform(df_train[feature])\n",
    "    if not onlyone:\n",
    "      df_test[feature] = encoder.transform(df_test[feature])\n",
    "  return df_train, df_test\n",
    "\n",
    "def crossvaldata_sklearn(df, split=0.3,rdstate=0):\n",
    "  \"\"\"Return preprocessed data, split into train and test\n",
    "  (not used when apply to kaggle data)\n",
    "  \"\"\"\n",
    "  df = featuresprocess(df)\n",
    "  Xtrain, Xtest, Ytrain, Ytest = split_XYtrain_data(df, test_size=split, random_state=rdstate)\n",
    "  Xtrain, Xtest = encode_features(Xtrain, Xtest)\n",
    "  return Xtrain, Xtest, Ytrain, Ytest\n"
   ]
  },
  {
   "cell_type": "code",
   "execution_count": 21,
   "metadata": {},
   "outputs": [],
   "source": [
    "df_train = pd.read_csv('https://raw.githubusercontent.com/baohuy251210/ComicCharactersMining/main/data/wikia/marvel-wikia-data.csv',na_values='?')\n"
   ]
  },
  {
   "cell_type": "code",
   "execution_count": 22,
   "metadata": {},
   "outputs": [
    {
     "name": "stdout",
     "output_type": "stream",
     "text": [
      "Missing values:\n"
     ]
    },
    {
     "data": {
      "text/html": [
       "<div>\n",
       "<style scoped>\n",
       "    .dataframe tbody tr th:only-of-type {\n",
       "        vertical-align: middle;\n",
       "    }\n",
       "\n",
       "    .dataframe tbody tr th {\n",
       "        vertical-align: top;\n",
       "    }\n",
       "\n",
       "    .dataframe thead th {\n",
       "        text-align: right;\n",
       "    }\n",
       "</style>\n",
       "<table border=\"1\" class=\"dataframe\">\n",
       "  <thead>\n",
       "    <tr style=\"text-align: right;\">\n",
       "      <th></th>\n",
       "      <th>Total</th>\n",
       "      <th>%</th>\n",
       "    </tr>\n",
       "  </thead>\n",
       "  <tbody>\n",
       "    <tr>\n",
       "      <th>gsm</th>\n",
       "      <td>16286</td>\n",
       "      <td>99.5</td>\n",
       "    </tr>\n",
       "    <tr>\n",
       "      <th>eye</th>\n",
       "      <td>9767</td>\n",
       "      <td>59.6</td>\n",
       "    </tr>\n",
       "    <tr>\n",
       "      <th>hair</th>\n",
       "      <td>4264</td>\n",
       "      <td>26.0</td>\n",
       "    </tr>\n",
       "    <tr>\n",
       "      <th>id</th>\n",
       "      <td>3770</td>\n",
       "      <td>23.0</td>\n",
       "    </tr>\n",
       "    <tr>\n",
       "      <th>align</th>\n",
       "      <td>2812</td>\n",
       "      <td>17.2</td>\n",
       "    </tr>\n",
       "  </tbody>\n",
       "</table>\n",
       "</div>"
      ],
      "text/plain": [
       "       Total     %\n",
       "gsm    16286  99.5\n",
       "eye     9767  59.6\n",
       "hair    4264  26.0\n",
       "id      3770  23.0\n",
       "align   2812  17.2"
      ]
     },
     "execution_count": 22,
     "metadata": {},
     "output_type": "execute_result"
    }
   ],
   "source": [
    "print(\"Missing values:\")\n",
    "df = df_train\n",
    "total = df.isnull().sum().sort_values(ascending=False)\n",
    "percent_1 = df.isnull().sum()/df.isnull().count()*100\n",
    "percent_2 = (round(percent_1, 1)).sort_values(ascending=False)\n",
    "missing_data = pd.concat([total, percent_2], axis=1, keys=['Total', '%'])\n",
    "\n",
    "\n",
    "##For report only\n",
    "with open('./train_final_missingvalues.tex', 'w') as tf:\n",
    "        tf.write(missing_data.to_latex(index=True, float_format=\"%1.2f\", label='tab:missingvals',\n",
    "                                    caption=\"Missing values from Train data\"))\n",
    "missing_data.head(5)"
   ]
  },
  {
   "cell_type": "code",
   "execution_count": 63,
   "metadata": {},
   "outputs": [],
   "source": [
    "total = df.isnull().sum().sort_values(ascending=False)\n",
    "percent_1 = df.isnull().sum()/df.isnull().count()*100\n",
    "percent_2 = (round(percent_1, 1)).sort_values(ascending=False)\n",
    "missing_data = pd.concat([total, percent_2], axis=1, keys=['Total', '%'])\n",
    "missing_data.head(5)\n",
    "# df.drop(['Unnamed: 0'],axis=1,inplace=True)\n",
    "df.to_csv(\"marvel_mostcm.csv\", index=False)"
   ]
  },
  {
   "cell_type": "code",
   "execution_count": 88,
   "metadata": {},
   "outputs": [
    {
     "name": "stdout",
     "output_type": "stream",
     "text": [
      "         id     align       eye      hair       sex     alive      year\n",
      "0 -1.148267 -0.818907  0.818178 -0.194871  0.565911  0.567553 -0.678993\n",
      "1  0.097311  0.064592  0.818178  1.151277  0.565911 -1.754620  0.083487\n",
      "2 -1.148267  0.064592 -1.098248 -0.643587  0.565911  0.567553  0.024834\n",
      "3 -1.148267  0.948092 -1.289890 -0.942731  0.565911  0.567553 -0.151122\n",
      "4  1.342889 -0.818907  0.818178 -0.643587 -1.511767  0.567553 -0.151122\n",
      "         id     align       eye      hair       sex     alive      year\n",
      "0  0.096867  0.066607 -1.289368 -1.096763  0.563012  0.574918 -2.985887\n",
      "1  0.096867  0.066607 -1.289368 -1.096763  0.563012  0.574918 -0.217267\n",
      "2  0.096867  0.066607 -1.098102 -0.649533  0.563012  0.574918 -1.807751\n",
      "3 -1.146287  0.066607 -1.098102  1.437539  0.563012  0.574918 -0.158360\n",
      "4  0.096867  0.066607 -1.289368 -1.096763  0.563012  0.574918 -2.926981\n",
      "Sklearn random forest\n",
      "Train: 16.38097\n",
      "Test: 11.61834\n",
      "MSE on TRAIN:  6878.97718238412\n",
      "MSE on TEST:  4948.79636149301\n",
      "Accuracy: -6791.093 (4551.942)\n"
     ]
    }
   ],
   "source": [
    "# df_train = pd.read_csv(\"dc_mostcm1.csv\", na_values='Unknown')\n",
    "# df = df_train.dropna(subset=['appearances','year'])\n",
    "df = pd.read_csv(\"dc_mostcm2.csv\")\n",
    "\n",
    "scaler = StandardScaler()\n",
    "\n",
    "from sklearn.metrics import classification_report, mean_squared_error\n",
    "\n",
    "xtrain, xtest, ytrain, ytest = crossvaldata_sklearn(df,split=0.2,rdstate=2)\n",
    "xtrain = pd.DataFrame(scaler.fit_transform(xtrain), columns = xtrain.columns)\n",
    "xtest = pd.DataFrame(scaler.transform(xtest), columns = xtrain.columns)\n",
    "\n",
    "print(xtrain.head(5))\n",
    "random_forest =RandomForestRegressor(n_estimators=50, max_depth=3)\n",
    "random_forest.fit(xtrain, ytrain)\n",
    "predict_rf = random_forest.predict(xtest)\n",
    "acc_rf = random_forest.score(xtest, ytest)*100\n",
    "acc_rf_t = random_forest.score(xtrain, ytrain)*100\n",
    "#Kfold\n",
    "df_kf = featuresprocess(pd.read_csv(\"dc_mostcm2.csv\"))\n",
    "Xkf = df_kf.drop(['appearances'], axis=1)\n",
    "Ykf = df_kf['appearances']\n",
    "Xkf,_ = encode_features(Xkf, Xkf, onlyone=True)\n",
    "\n",
    "scaler = StandardScaler()\n",
    "Xkf = pd.DataFrame(scaler.fit_transform(Xkf), columns = Xkf.columns)\n",
    "print(Xkf.head(5))\n",
    "model = RandomForestRegressor(n_estimators=50, max_depth=3)\n",
    "cv = KFold(n_splits=10, random_state=0, shuffle=True)\n",
    "scores = cross_val_score(model, Xkf, Ykf,scoring='neg_mean_squared_error', cv=cv, n_jobs=-1)\n",
    "\n",
    "print(\"Sklearn random forest\\nTrain: {0:5.5f}\\nTest: {1:5.5f}\".format(acc_rf_t,acc_rf))\n",
    "print(\"MSE on TRAIN: \",mean_squared_error(ytrain, random_forest.predict(xtrain)))\n",
    "print(\"MSE on TEST: \",mean_squared_error(ytest, predict_rf))\n",
    "print('Accuracy: %.3f (%.3f)' % (scores.mean(),scores.std()))"
   ]
  },
  {
   "cell_type": "code",
   "execution_count": null,
   "metadata": {},
   "outputs": [],
   "source": []
  },
  {
   "cell_type": "code",
   "execution_count": 89,
   "metadata": {},
   "outputs": [
    {
     "name": "stdout",
     "output_type": "stream",
     "text": [
      "Sklearn Adaboost forest\n",
      "Train: -39.31319\n",
      "Test: -75.91195\n",
      "MSE on TRAIN:  11460.695967533486\n",
      "MSE on TEST:  9849.922100812251\n",
      "Kfold: -9481.977 (5279.320)\n"
     ]
    }
   ],
   "source": [
    "adaboost =AdaBoostRegressor(n_estimators=100)\n",
    "adaboost.fit(xtrain, ytrain)\n",
    "predict_ada = adaboost.predict(xtest)\n",
    "acc_ada = adaboost.score(xtest, ytest)*100\n",
    "acc_ada_t = adaboost.score(xtrain, ytrain)*100\n",
    "\n",
    "print(\"Sklearn Adaboost forest\\nTrain: {0:5.5f}\\nTest: {1:5.5f}\".format(acc_ada_t,acc_ada))\n",
    "print(\"MSE on TRAIN: \",mean_squared_error(ytrain, adaboost.predict(xtrain)))\n",
    "print(\"MSE on TEST: \",mean_squared_error(ytest, predict_ada))\n",
    "#Kfold\n",
    "df_kf = featuresprocess(pd.read_csv(\"dc_mostcm2.csv\"))\n",
    "Xkf = df_kf.drop(['appearances'], axis=1)\n",
    "Ykf = df_kf['appearances']\n",
    "Xkf,_ = encode_features(Xkf, Xkf, onlyone=True)\n",
    "\n",
    "scaler = StandardScaler()\n",
    "Xkf = pd.DataFrame(scaler.fit_transform(Xkf), columns = Xkf.columns)\n",
    "model = AdaBoostRegressor(n_estimators=100)\n",
    "cv = KFold(n_splits=10, random_state=0, shuffle=True)\n",
    "scores = cross_val_score(model, Xkf, Ykf,scoring='neg_mean_squared_error', cv=cv, n_jobs=-1)\n",
    "\n",
    "print('Kfold: %.3f (%.3f)' % (scores.mean(),scores.std()))"
   ]
  },
  {
   "cell_type": "code",
   "execution_count": 90,
   "metadata": {},
   "outputs": [
    {
     "name": "stdout",
     "output_type": "stream",
     "text": [
      "Sklearn Gradient forest\n",
      "Train: 27.55861\n",
      "Test: 17.83864\n",
      "MSE on TRAIN:  5959.441525725898\n",
      "MSE on TEST:  4600.5005582717085\n",
      "Kfold: -7114.129 (4177.616)\n"
     ]
    }
   ],
   "source": [
    "gdr =GradientBoostingRegressor(n_estimators=1000,max_depth = 3, learning_rate = 0.01)\n",
    "gdr.fit(xtrain, ytrain)\n",
    "predict_gdr  = gdr.predict(xtest)\n",
    "acc_gdr  = gdr.score(xtest, ytest)*100\n",
    "acc_gdr_t = gdr.score(xtrain, ytrain)*100\n",
    "\n",
    "print(\"Sklearn Gradient forest\\nTrain: {0:5.5f}\\nTest: {1:5.5f}\".format(acc_gdr_t,acc_gdr))\n",
    "print(\"MSE on TRAIN: \",mean_squared_error(ytrain, gdr.predict(xtrain)))\n",
    "print(\"MSE on TEST: \",mean_squared_error(ytest, predict_gdr))\n",
    "#Kfold\n",
    "df_kf = featuresprocess(pd.read_csv(\"dc_mostcm2.csv\"))\n",
    "Xkf = df_kf.drop(['appearances'], axis=1)\n",
    "Ykf = df_kf['appearances']\n",
    "Xkf,_ = encode_features(Xkf, Xkf, onlyone=True)\n",
    "\n",
    "scaler = StandardScaler()\n",
    "Xkf = pd.DataFrame(scaler.fit_transform(Xkf), columns = Xkf.columns)\n",
    "model =GradientBoostingRegressor(n_estimators=1000,max_depth = 3, learning_rate = 0.01)\n",
    "cv = KFold(n_splits=10, random_state=0, shuffle=True)\n",
    "scores = cross_val_score(model, Xkf, Ykf,scoring='neg_mean_squared_error', cv=cv, n_jobs=-1)\n",
    "\n",
    "print('Kfold: %.3f (%.3f)' % (scores.mean(),scores.std()))"
   ]
  },
  {
   "cell_type": "code",
   "execution_count": 91,
   "metadata": {},
   "outputs": [
    {
     "name": "stderr",
     "output_type": "stream",
     "text": [
      "c:\\users\\baohu\\appdata\\local\\programs\\python\\python38\\lib\\site-packages\\sklearn\\linear_model\\_logistic.py:762: ConvergenceWarning: lbfgs failed to converge (status=1):\n",
      "STOP: TOTAL NO. of ITERATIONS REACHED LIMIT.\n",
      "\n",
      "Increase the number of iterations (max_iter) or scale the data as shown in:\n",
      "    https://scikit-learn.org/stable/modules/preprocessing.html\n",
      "Please also refer to the documentation for alternative solver options:\n",
      "    https://scikit-learn.org/stable/modules/linear_model.html#logistic-regression\n",
      "  n_iter_i = _check_optimize_result(\n"
     ]
    },
    {
     "name": "stdout",
     "output_type": "stream",
     "text": [
      "Sklearn Log R\n",
      "Train: 0.14726\n",
      "Test: 0.15567\n",
      "MSE TRAIN:  8403.409722222223\n",
      "MSE TEST:  5679.364687740941\n",
      "Kfold: -7848.797 (5025.651)\n"
     ]
    }
   ],
   "source": [
    "from sklearn.linear_model import LogisticRegression, LinearRegression, Ridge, Lasso\n",
    "logr = LogisticRegression(max_iter=100)\n",
    "logr.fit(xtrain, ytrain)\n",
    "lg_test = logr.score(xtest, ytest)\n",
    "lg_train = logr.score(xtrain, ytrain)\n",
    "print(\"Sklearn Log R\\nTrain: {0:5.5f}\\nTest: {1:5.5f}\".format(lg_test,lg_train))\n",
    "\n",
    "print(\"MSE TRAIN: \",mean_squared_error(ytrain, logr.predict(xtrain)))\n",
    "print(\"MSE TEST: \",mean_squared_error(ytest, logr.predict(xtest)))\n",
    "#Kfold\n",
    "df_kf = featuresprocess(pd.read_csv(\"dc_mostcm2.csv\"))\n",
    "Xkf = df_kf.drop(['appearances'], axis=1)\n",
    "Ykf = df_kf['appearances']\n",
    "Xkf,_ = encode_features(Xkf, Xkf, onlyone=True)\n",
    "\n",
    "scaler = StandardScaler()\n",
    "Xkf = pd.DataFrame(scaler.fit_transform(Xkf), columns = Xkf.columns)\n",
    "model =LogisticRegression(max_iter=100)\n",
    "cv = KFold(n_splits=10, random_state=0, shuffle=True)\n",
    "scores = cross_val_score(model, Xkf, Ykf,scoring='neg_mean_squared_error', cv=cv, n_jobs=-1)\n",
    "\n",
    "print('Kfold: %.3f (%.3f)' % (scores.mean(),scores.std()))"
   ]
  },
  {
   "cell_type": "code",
   "execution_count": 92,
   "metadata": {},
   "outputs": [
    {
     "name": "stdout",
     "output_type": "stream",
     "text": [
      "Sklearn Linear Regression\n",
      "Train: 0.11254\n",
      "Test: 0.08717\n",
      "MSE TRAIN:  7509.458003270517\n",
      "MSE TEST:  4969.203425663302\n",
      "Kfold: -7018.653 (4751.544)\n"
     ]
    }
   ],
   "source": [
    "linearreg = LinearRegression()\n",
    "linearreg.fit(xtrain, ytrain)\n",
    "linearreg_test = linearreg.score(xtest, ytest)\n",
    "linearreg_train = linearreg.score(xtrain, ytrain)\n",
    "print(\"Sklearn Linear Regression\\nTrain: {0:5.5f}\\nTest: {1:5.5f}\".format(linearreg_test,linearreg_train))\n",
    "\n",
    "print(\"MSE TRAIN: \",mean_squared_error(ytrain, linearreg.predict(xtrain)))\n",
    "print(\"MSE TEST: \",mean_squared_error(ytest, linearreg.predict(xtest)))\n",
    "#Kfold\n",
    "df_kf = featuresprocess(pd.read_csv(\"dc_mostcm2.csv\"))\n",
    "Xkf = df_kf.drop(['appearances'], axis=1)\n",
    "Ykf = df_kf['appearances']\n",
    "Xkf,_ = encode_features(Xkf, Xkf, onlyone=True)\n",
    "\n",
    "scaler = StandardScaler()\n",
    "Xkf = pd.DataFrame(scaler.fit_transform(Xkf), columns = Xkf.columns)\n",
    "model =LinearRegression()\n",
    "cv = KFold(n_splits=10, random_state=0, shuffle=True)\n",
    "scores = cross_val_score(model, Xkf, Ykf,scoring='neg_mean_squared_error', cv=cv, n_jobs=-1)\n",
    "\n",
    "print('Kfold: %.3f (%.3f)' % (scores.mean(),scores.std()))"
   ]
  },
  {
   "cell_type": "code",
   "execution_count": 93,
   "metadata": {},
   "outputs": [
    {
     "name": "stdout",
     "output_type": "stream",
     "text": [
      "Sklearn Ridge Regression\n",
      "Train: 0.11254\n",
      "Test: 0.08717\n",
      "MSE TRAIN:  7509.458003473231\n",
      "MSE TEST:  4969.20262362002\n",
      "Kfold: -7018.653 (4751.549)\n"
     ]
    }
   ],
   "source": [
    "rr = Ridge(alpha=0.1)\n",
    "rr.fit(xtrain, ytrain)\n",
    "rr_test = rr.score(xtest, ytest)\n",
    "rr_train = rr.score(xtrain, ytrain)\n",
    "print(\"Sklearn Ridge Regression\\nTrain: {0:5.5f}\\nTest: {1:5.5f}\".format(rr_test,rr_train))\n",
    "\n",
    "print(\"MSE TRAIN: \",mean_squared_error(ytrain, rr.predict(xtrain)))\n",
    "print(\"MSE TEST: \",mean_squared_error(ytest, rr.predict(xtest)))\n",
    "#Kfold\n",
    "df_kf = featuresprocess(pd.read_csv(\"dc_mostcm2.csv\"))\n",
    "Xkf = df_kf.drop(['appearances'], axis=1)\n",
    "Ykf = df_kf['appearances']\n",
    "Xkf,_ = encode_features(Xkf, Xkf, onlyone=True)\n",
    "\n",
    "scaler = StandardScaler()\n",
    "Xkf = pd.DataFrame(scaler.fit_transform(Xkf), columns = Xkf.columns)\n",
    "model =Ridge(alpha=0.1)\n",
    "cv = KFold(n_splits=10, random_state=0, shuffle=True)\n",
    "scores = cross_val_score(model, Xkf, Ykf,scoring='neg_mean_squared_error', cv=cv, n_jobs=-1)\n",
    "\n",
    "print('Kfold: %.3f (%.3f)' % (scores.mean(),scores.std()))"
   ]
  },
  {
   "cell_type": "code",
   "execution_count": 94,
   "metadata": {},
   "outputs": [
    {
     "name": "stdout",
     "output_type": "stream",
     "text": [
      "Sklearn Lasso Regression\n",
      "Train: 0.11253\n",
      "Test: 0.08717\n",
      "MSE TRAIN:  7509.458637336918\n",
      "MSE TEST:  4969.240316793031\n",
      "Kfold: -7018.652 (4751.745)\n"
     ]
    }
   ],
   "source": [
    "lasso = Lasso(alpha=0.01)\n",
    "lasso.fit(xtrain, ytrain)\n",
    "lasso_test = lasso.score(xtest, ytest)\n",
    "lasso_train = lasso.score(xtrain, ytrain)\n",
    "print(\"Sklearn Lasso Regression\\nTrain: {0:5.5f}\\nTest: {1:5.5f}\".format(lasso_test,lasso_train))\n",
    "\n",
    "print(\"MSE TRAIN: \",mean_squared_error(ytrain, lasso.predict(xtrain)))\n",
    "print(\"MSE TEST: \",mean_squared_error(ytest, lasso.predict(xtest)))\n",
    "#Kfold\n",
    "df_kf = featuresprocess(pd.read_csv(\"dc_mostcm2.csv\"))\n",
    "Xkf = df_kf.drop(['appearances'], axis=1)\n",
    "Ykf = df_kf['appearances']\n",
    "Xkf,_ = encode_features(Xkf, Xkf, onlyone=True)\n",
    "\n",
    "scaler = StandardScaler()\n",
    "Xkf = pd.DataFrame(scaler.fit_transform(Xkf), columns = Xkf.columns)\n",
    "model =Lasso(alpha=0.01)\n",
    "cv = KFold(n_splits=10, random_state=0, shuffle=True)\n",
    "scores = cross_val_score(model, Xkf, Ykf,scoring='neg_mean_squared_error', cv=cv, n_jobs=-1)\n",
    "\n",
    "print('Kfold: %.3f (%.3f)' % (scores.mean(),scores.std()))"
   ]
  },
  {
   "cell_type": "code",
   "execution_count": 95,
   "metadata": {},
   "outputs": [
    {
     "name": "stdout",
     "output_type": "stream",
     "text": [
      "Sklearn Bayesian Ridge Regression\n",
      "Train: 0.11264\n",
      "Test: 0.08715\n",
      "MSE TRAIN:  7509.608928126273\n",
      "MSE TEST:  4968.654082316524\n",
      "Kfold: -7018.369 (4755.224)\n"
     ]
    }
   ],
   "source": [
    "from sklearn.linear_model import BayesianRidge\n",
    "brr = BayesianRidge()\n",
    "brr.fit(xtrain, ytrain)\n",
    "brr_test = brr.score(xtest, ytest)\n",
    "brr_train = brr.score(xtrain, ytrain)\n",
    "print(\"Sklearn Bayesian Ridge Regression\\nTrain: {0:5.5f}\\nTest: {1:5.5f}\".format(brr_test,brr_train))\n",
    "\n",
    "print(\"MSE TRAIN: \",mean_squared_error(ytrain, brr.predict(xtrain)))\n",
    "print(\"MSE TEST: \",mean_squared_error(ytest, brr.predict(xtest)))\n",
    "#Kfold\n",
    "df_kf = featuresprocess(pd.read_csv(\"dc_mostcm2.csv\"))\n",
    "Xkf = df_kf.drop(['appearances'], axis=1)\n",
    "Ykf = df_kf['appearances']\n",
    "Xkf,_ = encode_features(Xkf, Xkf, onlyone=True)\n",
    "\n",
    "scaler = StandardScaler()\n",
    "Xkf = pd.DataFrame(scaler.fit_transform(Xkf), columns = Xkf.columns)\n",
    "model =BayesianRidge()\n",
    "cv = KFold(n_splits=10, random_state=0, shuffle=True)\n",
    "scores = cross_val_score(model, Xkf, Ykf,scoring='neg_mean_squared_error', cv=cv, n_jobs=-1)\n",
    "\n",
    "print('Kfold: %.3f (%.3f)' % (scores.mean(),scores.std()))"
   ]
  },
  {
   "cell_type": "code",
   "execution_count": 96,
   "metadata": {},
   "outputs": [
    {
     "name": "stdout",
     "output_type": "stream",
     "text": [
      "Sklearn KNeighborsRegressor\n",
      "Train: -0.02634\n",
      "Test: 0.25440\n",
      "MSE TRAIN:  6133.73656322338\n",
      "MSE TEST:  5746.854182729376\n",
      "Kfold: -7542.965 (4136.280)\n"
     ]
    }
   ],
   "source": [
    "from sklearn.neighbors import KNeighborsRegressor\n",
    "knr = KNeighborsRegressor(n_neighbors=8)\n",
    "knr.fit(xtrain, ytrain)\n",
    "knr_test = knr.score(xtest, ytest)\n",
    "knr_train = knr.score(xtrain, ytrain)\n",
    "print(\"Sklearn KNeighborsRegressor\\nTrain: {0:5.5f}\\nTest: {1:5.5f}\".format(knr_test,knr_train))\n",
    "\n",
    "print(\"MSE TRAIN: \",mean_squared_error(ytrain, knr.predict(xtrain)))\n",
    "print(\"MSE TEST: \",mean_squared_error(ytest, knr.predict(xtest)))\n",
    "#Kfold\n",
    "df_kf = featuresprocess(pd.read_csv(\"dc_mostcm2.csv\"))\n",
    "Xkf = df_kf.drop(['appearances'], axis=1)\n",
    "Ykf = df_kf['appearances']\n",
    "Xkf,_ = encode_features(Xkf, Xkf, onlyone=True)\n",
    "\n",
    "scaler = StandardScaler()\n",
    "Xkf = pd.DataFrame(scaler.fit_transform(Xkf), columns = Xkf.columns)\n",
    "model =KNeighborsRegressor(n_neighbors=6)\n",
    "cv = KFold(n_splits=10, random_state=0, shuffle=True)\n",
    "scores = cross_val_score(model, Xkf, Ykf,scoring='neg_mean_squared_error', cv=cv, n_jobs=-1)\n",
    "\n",
    "print('Kfold: %.3f (%.3f)' % (scores.mean(),scores.std()))"
   ]
  },
  {
   "cell_type": "code",
   "execution_count": null,
   "metadata": {},
   "outputs": [],
   "source": []
  },
  {
   "cell_type": "code",
   "execution_count": null,
   "metadata": {},
   "outputs": [],
   "source": []
  }
 ],
 "metadata": {
  "kernelspec": {
   "display_name": "Python 3",
   "language": "python",
   "name": "python3"
  },
  "language_info": {
   "codemirror_mode": {
    "name": "ipython",
    "version": 3
   },
   "file_extension": ".py",
   "mimetype": "text/x-python",
   "name": "python",
   "nbconvert_exporter": "python",
   "pygments_lexer": "ipython3",
   "version": "3.8.4"
  }
 },
 "nbformat": 4,
 "nbformat_minor": 4
}
