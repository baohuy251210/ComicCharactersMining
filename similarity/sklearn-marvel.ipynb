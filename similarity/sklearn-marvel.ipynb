{
 "cells": [
  {
   "cell_type": "code",
   "execution_count": 14,
   "metadata": {},
   "outputs": [],
   "source": [
    "import pandas as pd\n",
    "import numpy as np\n",
    "# Visualizations\n",
    "import matplotlib.pyplot as plt\n",
    "from matplotlib import rcParams\n",
    "import seaborn as sns\n",
    "%matplotlib inline\n",
    "from pandas.plotting import scatter_matrix\n",
    "\n",
    "# Algorithms\n",
    "from sklearn import linear_model\n",
    "from sklearn.linear_model import LogisticRegression\n",
    "from sklearn.ensemble import RandomForestClassifier, AdaBoostClassifier, GradientBoostingClassifier, RandomForestRegressor, AdaBoostRegressor, GradientBoostingRegressor\n",
    "from sklearn.linear_model import Perceptron\n",
    "from sklearn.linear_model import SGDClassifier\n",
    "from sklearn.tree import DecisionTreeClassifier, DecisionTreeRegressor\n",
    "from sklearn.neighbors import KNeighborsClassifier\n",
    "from sklearn.svm import SVC, LinearSVC\n",
    "from sklearn.model_selection import cross_val_score\n",
    "from sklearn.naive_bayes import GaussianNB\n",
    "from sklearn.model_selection import train_test_split\n",
    "from sklearn import preprocessing\n",
    "from sklearn.preprocessing import StandardScaler, MinMaxScaler\n",
    "from sklearn.metrics import confusion_matrix,classification_report,accuracy_score, r2_score\n",
    "from sklearn import svm\n",
    "import xgboost as xgb\n",
    "from xgboost import XGBClassifier, plot_importance"
   ]
  },
  {
   "cell_type": "code",
   "execution_count": 4,
   "metadata": {},
   "outputs": [],
   "source": [
    "##HELPER METHODS\n",
    "def featuresprocess(df):\n",
    "    '''\n",
    "    Use to map features of df \n",
    "      usually called for both df_train and df_test to line them up\n",
    "    '''\n",
    "    resdf = df.copy()\n",
    "    resdf = resdf.fillna('Unknown')\n",
    "#     resdf.drop(['gsm'], axis = 1, inplace = True)\n",
    "    resdf.drop(['page_id'], axis = 1, inplace = True)\n",
    "    resdf.drop(['urlslug'], axis = 1, inplace = True)\n",
    "    resdf.drop(['first appearance'], axis = 1, inplace = True)\n",
    "    resdf.drop(['id'], axis = 1, inplace = True)\n",
    "    resdf.drop(['align'], axis = 1, inplace = True)\n",
    "    resdf.drop(['name'], axis = 1, inplace = True)\n",
    "    resdf.drop(['year'],axis = 1, inplace = True)\n",
    "#   resdf.drop(['education'], axis = 1, inplace = True)\n",
    "#   resdf.drop(['sex'], axis = 1, inplace = True)\n",
    "  # resdf.drop(['native.country'],axis=1, inplace=True)\n",
    "  # resdf.drop(['fnlwgt'],axis=1, inplace=True)\n",
    "  # resdf.drop(['education.num'], axis = 1, inplace = True)\n",
    "  # resdf['education'].replace(['11th', '9th', '7th-8th', '5th-6th', '10th', '1st-4th', 'Preschool', '12th'],\n",
    "                              # 'K12School', inplace = True)\n",
    "  # resdf['marital.status'] = resdf['marital.status'].replace(['Widowed', 'Divorced', 'Separated', 'Never-married'], 'single')\n",
    "  # resdf['marital.status'] = resdf['marital.status'].replace(['Married-spouse-absent', 'Married-civ-spouse', 'Married-AF-spouse'], 'married')\n",
    "  # resdf['relationship']=resdf['relationship'].replace(['Husband','Wife'],'Couple')\n",
    "  # resdf['relationship'] = resdf['relationship'].replace(['Unmarried', 'Not-in-family','Own-child','Other-relative'], 'Others')\n",
    "    return resdf\n",
    "\n",
    "def split_XYtrain_data(df, test_size=0.2, random_state=0):\n",
    "  '''Only use for train data (with income>50k label)\n",
    "  Return Xtrain, Xtest, Ytrain, Ytest\n",
    "  '''\n",
    "  X = df.drop(labels=['appearances'],axis=1)\n",
    "  Y = df['appearances']\n",
    "  return  train_test_split(X, Y, test_size =test_size, random_state = random_state)\n",
    "\n",
    "def encode_features(df_train, df_test, onlyone=False):\n",
    "  '''\n",
    "  Encode labels for two X data sets\n",
    "  -If use for split test and train. Pass in Xtrain and Xtest\n",
    "  -If use for real test and full train. Pass in full X data train, Xtest_kaggle\n",
    "  '''\n",
    "  df_combined = pd.concat([df_train, df_test])\n",
    "  categorical = [column for column in df_combined if df_combined.dtypes[column] == np.object]\n",
    "  # categorical = ['workclass','education', 'marital.status', 'occupation', 'relationship','race', 'sex']#drop native.country\n",
    "  for feature in categorical:\n",
    "    encoder = preprocessing.LabelEncoder()\n",
    "    encoder = encoder.fit(df_combined[feature])\n",
    "    df_train[feature] = encoder.transform(df_train[feature])\n",
    "    if not onlyone:\n",
    "      df_test[feature] = encoder.transform(df_test[feature])\n",
    "  return df_train, df_test\n",
    "\n",
    "def crossvaldata_sklearn(df, split=0.3,rdstate=0):\n",
    "  \"\"\"Return preprocessed data, split into train and test\n",
    "  (not used when apply to kaggle data)\n",
    "  \"\"\"\n",
    "  df = featuresprocess(df)\n",
    "  Xtrain, Xtest, Ytrain, Ytest = split_XYtrain_data(df, test_size=split, random_state=rdstate)\n",
    "  Xtrain, Xtest = encode_features(Xtrain, Xtest)\n",
    "  return Xtrain, Xtest, Ytrain, Ytest\n"
   ]
  },
  {
   "cell_type": "code",
   "execution_count": 10,
   "metadata": {},
   "outputs": [],
   "source": [
    "df_train = pd.read_csv('https://raw.githubusercontent.com/baohuy251210/ComicCharactersMining/main/data/wikia/marvel-wikia-data.csv',na_values='?')\n"
   ]
  },
  {
   "cell_type": "code",
   "execution_count": 11,
   "metadata": {},
   "outputs": [
    {
     "name": "stdout",
     "output_type": "stream",
     "text": [
      "Missing values:\n"
     ]
    },
    {
     "data": {
      "text/html": [
       "<div>\n",
       "<style scoped>\n",
       "    .dataframe tbody tr th:only-of-type {\n",
       "        vertical-align: middle;\n",
       "    }\n",
       "\n",
       "    .dataframe tbody tr th {\n",
       "        vertical-align: top;\n",
       "    }\n",
       "\n",
       "    .dataframe thead th {\n",
       "        text-align: right;\n",
       "    }\n",
       "</style>\n",
       "<table border=\"1\" class=\"dataframe\">\n",
       "  <thead>\n",
       "    <tr style=\"text-align: right;\">\n",
       "      <th></th>\n",
       "      <th>Total</th>\n",
       "      <th>%</th>\n",
       "    </tr>\n",
       "  </thead>\n",
       "  <tbody>\n",
       "    <tr>\n",
       "      <th>gsm</th>\n",
       "      <td>16286</td>\n",
       "      <td>99.5</td>\n",
       "    </tr>\n",
       "    <tr>\n",
       "      <th>eye</th>\n",
       "      <td>9767</td>\n",
       "      <td>59.6</td>\n",
       "    </tr>\n",
       "    <tr>\n",
       "      <th>hair</th>\n",
       "      <td>4264</td>\n",
       "      <td>26.0</td>\n",
       "    </tr>\n",
       "    <tr>\n",
       "      <th>id</th>\n",
       "      <td>3770</td>\n",
       "      <td>23.0</td>\n",
       "    </tr>\n",
       "    <tr>\n",
       "      <th>align</th>\n",
       "      <td>2812</td>\n",
       "      <td>17.2</td>\n",
       "    </tr>\n",
       "  </tbody>\n",
       "</table>\n",
       "</div>"
      ],
      "text/plain": [
       "       Total     %\n",
       "gsm    16286  99.5\n",
       "eye     9767  59.6\n",
       "hair    4264  26.0\n",
       "id      3770  23.0\n",
       "align   2812  17.2"
      ]
     },
     "execution_count": 11,
     "metadata": {},
     "output_type": "execute_result"
    }
   ],
   "source": [
    "print(\"Missing values:\")\n",
    "df = df_train\n",
    "total = df.isnull().sum().sort_values(ascending=False)\n",
    "percent_1 = df.isnull().sum()/df.isnull().count()*100\n",
    "percent_2 = (round(percent_1, 1)).sort_values(ascending=False)\n",
    "missing_data = pd.concat([total, percent_2], axis=1, keys=['Total', '%'])\n",
    "\n",
    "\n",
    "##For report only\n",
    "with open('./train_final_missingvalues.tex', 'w') as tf:\n",
    "        tf.write(missing_data.to_latex(index=True, float_format=\"%1.2f\", label='tab:missingvals',\n",
    "                                    caption=\"Missing values from Train data\"))\n",
    "missing_data.head(5)"
   ]
  },
  {
   "cell_type": "code",
   "execution_count": 12,
   "metadata": {},
   "outputs": [],
   "source": [
    "#drop gsm, replace others with \"unknown\"\n",
    "# df.drop(['gsm'], axis = 1, inplace = True)\n",
    "# df.fillna('Unknown', inplace=True)\n",
    "\n",
    "\n"
   ]
  },
  {
   "cell_type": "code",
   "execution_count": null,
   "metadata": {},
   "outputs": [],
   "source": [
    "total = df.isnull().sum().sort_values(ascending=False)\n",
    "percent_1 = df.isnull().sum()/df.isnull().count()*100\n",
    "percent_2 = (round(percent_1, 1)).sort_values(ascending=False)\n",
    "missing_data = pd.concat([total, percent_2], axis=1, keys=['Total', '%'])\n",
    "missing_data.head(5)\n",
    "df.drop(['Unnamed: 0'],axis=1,inplace=True)\n",
    "df.to_csv(\"marvel_mostcm.csv\", index=False)"
   ]
  },
  {
   "cell_type": "code",
   "execution_count": 5,
   "metadata": {},
   "outputs": [
    {
     "name": "stdout",
     "output_type": "stream",
     "text": [
      "       eye  hair  sex  alive\n",
      "12132    2     2    1      1\n",
      "5607     7     6    1      1\n",
      "1942    19     6    1      1\n",
      "10415   19    22    3      1\n",
      "5438    19    22    3      1\n",
      "Sklearn random forest\n",
      "Train: 4.02339\n",
      "Test: 4.12528\n",
      "MSE on TRAIN:  10488.041075583396\n",
      "MSE on TEST:  5733.789231625607\n"
     ]
    }
   ],
   "source": [
    "df = pd.read_csv(\"marvel_mostcm2.csv\")\n",
    "# df = df.dropna(subset=['appearances','year'])\n",
    "# df.to_csv(\"marvel_mostcm2.csv\", index=False)\n",
    "# df.fillna()\n",
    "scaler = StandardScaler()\n",
    "\n",
    "from sklearn.metrics import classification_report, mean_squared_error\n",
    "\n",
    "xtrain, xtest, ytrain, ytest = crossvaldata_sklearn(df)\n",
    "scalecols = [x for x in xtrain.columns]\n",
    "# xtrain = pd.DataFrame(scaler.fit_transform(xtrain), columns = scalecols)\n",
    "\n",
    "# xtest = pd.DataFrame(scaler.transform(xtest), columns = scalecols)\n",
    "print(xtrain.head(5))\n",
    "\n",
    "random_forest =RandomForestRegressor(n_estimators=50, max_depth=3)\n",
    "random_forest.fit(xtrain, ytrain)\n",
    "predict_rf = random_forest.predict(xtest)\n",
    "acc_rf = random_forest.score(xtest, ytest)*100\n",
    "acc_rf_t = random_forest.score(xtrain, ytrain)*100\n",
    "\n",
    "print(\"Sklearn random forest\\nTrain: {0:5.5f}\\nTest: {1:5.5f}\".format(acc_rf_t,acc_rf))\n",
    "print(\"MSE on TRAIN: \",mean_squared_error(ytrain, random_forest.predict(xtrain)))\n",
    "print(\"MSE on TEST: \",mean_squared_error(ytest, predict_rf))"
   ]
  },
  {
   "cell_type": "code",
   "execution_count": 6,
   "metadata": {},
   "outputs": [
    {
     "name": "stdout",
     "output_type": "stream",
     "text": [
      "Sklearn Adaboost forest\n",
      "Train: -109.16025\n",
      "Test: -226.11430\n",
      "MSE on TRAIN:  22856.416640635878\n",
      "MSE on TEST:  19503.271578875774\n"
     ]
    }
   ],
   "source": [
    "adaboost =AdaBoostRegressor(n_estimators=100)\n",
    "adaboost.fit(xtrain, ytrain)\n",
    "predict_ada = adaboost.predict(xtest)\n",
    "acc_ada = adaboost.score(xtest, ytest)*100\n",
    "acc_ada_t = adaboost.score(xtrain, ytrain)*100\n",
    "\n",
    "print(\"Sklearn Adaboost forest\\nTrain: {0:5.5f}\\nTest: {1:5.5f}\".format(acc_ada_t,acc_ada))\n",
    "print(\"MSE on TRAIN: \",mean_squared_error(ytrain, adaboost.predict(xtrain)))\n",
    "print(\"MSE on TEST: \",mean_squared_error(ytest, predict_ada))"
   ]
  },
  {
   "cell_type": "code",
   "execution_count": 7,
   "metadata": {},
   "outputs": [
    {
     "name": "stdout",
     "output_type": "stream",
     "text": [
      "Sklearn Gradient forest\n",
      "Train: 6.82721\n",
      "Test: 4.74025\n",
      "MSE on TRAIN:  10181.647601365205\n",
      "MSE on TEST:  5697.010796793664\n"
     ]
    }
   ],
   "source": [
    "gdr =GradientBoostingRegressor(n_estimators=200)\n",
    "gdr.fit(xtrain, ytrain)\n",
    "predict_gdr  = gdr.predict(xtest)\n",
    "acc_gdr  = gdr.score(xtest, ytest)*100\n",
    "acc_gdr_t = gdr.score(xtrain, ytrain)*100\n",
    "\n",
    "print(\"Sklearn Gradient forest\\nTrain: {0:5.5f}\\nTest: {1:5.5f}\".format(acc_gdr_t,acc_gdr))\n",
    "print(\"MSE on TRAIN: \",mean_squared_error(ytrain, gdr.predict(xtrain)))\n",
    "print(\"MSE on TEST: \",mean_squared_error(ytest, predict_gdr))"
   ]
  },
  {
   "cell_type": "code",
   "execution_count": 8,
   "metadata": {},
   "outputs": [
    {
     "name": "stdout",
     "output_type": "stream",
     "text": [
      "Sklearn Log R\n",
      "Train: 0.31182\n",
      "Test: 0.31145\n",
      "MSE TRAIN:  11212.195421334633\n",
      "MSE TEST:  6210.8720454545455\n"
     ]
    },
    {
     "name": "stderr",
     "output_type": "stream",
     "text": [
      "c:\\users\\baohu\\appdata\\local\\programs\\python\\python38\\lib\\site-packages\\sklearn\\linear_model\\_logistic.py:762: ConvergenceWarning: lbfgs failed to converge (status=1):\n",
      "STOP: TOTAL NO. of ITERATIONS REACHED LIMIT.\n",
      "\n",
      "Increase the number of iterations (max_iter) or scale the data as shown in:\n",
      "    https://scikit-learn.org/stable/modules/preprocessing.html\n",
      "Please also refer to the documentation for alternative solver options:\n",
      "    https://scikit-learn.org/stable/modules/linear_model.html#logistic-regression\n",
      "  n_iter_i = _check_optimize_result(\n"
     ]
    }
   ],
   "source": [
    "from sklearn.linear_model import LogisticRegression, LinearRegression, Ridge, Lasso\n",
    "logr = LogisticRegression(max_iter=1000)\n",
    "logr.fit(xtrain, ytrain)\n",
    "lg_test = logr.score(xtest, ytest)\n",
    "lg_train = logr.score(xtrain, ytrain)\n",
    "print(\"Sklearn Log R\\nTrain: {0:5.5f}\\nTest: {1:5.5f}\".format(lg_test,lg_train))\n",
    "\n",
    "print(\"MSE TRAIN: \",mean_squared_error(ytrain, logr.predict(xtrain)))\n",
    "print(\"MSE TEST: \",mean_squared_error(ytest, logr.predict(xtest)))"
   ]
  },
  {
   "cell_type": "code",
   "execution_count": 9,
   "metadata": {},
   "outputs": [
    {
     "name": "stdout",
     "output_type": "stream",
     "text": [
      "Sklearn Linear Regression\n",
      "Train: 0.03201\n",
      "Test: 0.02615\n",
      "MSE TRAIN:  10641.967731275114\n",
      "MSE TEST:  5789.057227573969\n"
     ]
    }
   ],
   "source": [
    "linearreg = LinearRegression()\n",
    "linearreg.fit(xtrain, ytrain)\n",
    "linearreg_test = linearreg.score(xtest, ytest)\n",
    "linearreg_train = linearreg.score(xtrain, ytrain)\n",
    "print(\"Sklearn Linear Regression\\nTrain: {0:5.5f}\\nTest: {1:5.5f}\".format(linearreg_test,linearreg_train))\n",
    "\n",
    "print(\"MSE TRAIN: \",mean_squared_error(ytrain, linearreg.predict(xtrain)))\n",
    "print(\"MSE TEST: \",mean_squared_error(ytest, linearreg.predict(xtest)))"
   ]
  },
  {
   "cell_type": "code",
   "execution_count": 10,
   "metadata": {},
   "outputs": [
    {
     "name": "stdout",
     "output_type": "stream",
     "text": [
      "Sklearn Ridge Regression\n",
      "Train: 0.03201\n",
      "Test: 0.02615\n",
      "MSE TRAIN:  10641.96773127557\n",
      "MSE TEST:  5789.057199368543\n"
     ]
    }
   ],
   "source": [
    "rr = Ridge(alpha=0.01)\n",
    "rr.fit(xtrain, ytrain)\n",
    "rr_test = rr.score(xtest, ytest)\n",
    "rr_train = rr.score(xtrain, ytrain)\n",
    "print(\"Sklearn Ridge Regression\\nTrain: {0:5.5f}\\nTest: {1:5.5f}\".format(rr_test,rr_train))\n",
    "\n",
    "print(\"MSE TRAIN: \",mean_squared_error(ytrain, rr.predict(xtrain)))\n",
    "print(\"MSE TEST: \",mean_squared_error(ytest, rr.predict(xtest)))"
   ]
  },
  {
   "cell_type": "code",
   "execution_count": 11,
   "metadata": {},
   "outputs": [
    {
     "name": "stdout",
     "output_type": "stream",
     "text": [
      "Sklearn Lasso Regression\n",
      "Train: 0.03204\n",
      "Test: 0.02615\n",
      "MSE TRAIN:  10641.970604808852\n",
      "MSE TEST:  5788.899055519441\n"
     ]
    }
   ],
   "source": [
    "lasso = Lasso(alpha=0.02)\n",
    "lasso.fit(xtrain, ytrain)\n",
    "lasso_test = lasso.score(xtest, ytest)\n",
    "lasso_train = lasso.score(xtrain, ytrain)\n",
    "print(\"Sklearn Lasso Regression\\nTrain: {0:5.5f}\\nTest: {1:5.5f}\".format(lasso_test,lasso_train))\n",
    "\n",
    "print(\"MSE TRAIN: \",mean_squared_error(ytrain, lasso.predict(xtrain)))\n",
    "print(\"MSE TEST: \",mean_squared_error(ytest, lasso.predict(xtest)))"
   ]
  },
  {
   "cell_type": "code",
   "execution_count": 12,
   "metadata": {},
   "outputs": [
    {
     "name": "stdout",
     "output_type": "stream",
     "text": [
      "Sklearn Bayesian Ridge Regression\n",
      "Train: 0.03204\n",
      "Test: 0.02601\n",
      "MSE TRAIN:  10643.474851602381\n",
      "MSE TEST:  5788.882332925896\n"
     ]
    }
   ],
   "source": [
    "from sklearn.linear_model import BayesianRidge\n",
    "brr = BayesianRidge()\n",
    "brr.fit(xtrain, ytrain)\n",
    "brr_test = brr.score(xtest, ytest)\n",
    "brr_train = brr.score(xtrain, ytrain)\n",
    "print(\"Sklearn Bayesian Ridge Regression\\nTrain: {0:5.5f}\\nTest: {1:5.5f}\".format(brr_test,brr_train))\n",
    "\n",
    "print(\"MSE TRAIN: \",mean_squared_error(ytrain, brr.predict(xtrain)))\n",
    "print(\"MSE TEST: \",mean_squared_error(ytest, brr.predict(xtest)))"
   ]
  },
  {
   "cell_type": "code",
   "execution_count": 13,
   "metadata": {},
   "outputs": [
    {
     "name": "stdout",
     "output_type": "stream",
     "text": [
      "Sklearn KNeighborsRegressor\n",
      "Train: -0.01864\n",
      "Test: 0.01373\n",
      "MSE TRAIN:  10777.72054446068\n",
      "MSE TEST:  6091.961414141415\n"
     ]
    }
   ],
   "source": [
    "from sklearn.neighbors import KNeighborsRegressor\n",
    "knr = KNeighborsRegressor(n_neighbors=6)\n",
    "knr.fit(xtrain, ytrain)\n",
    "knr_test = knr.score(xtest, ytest)\n",
    "knr_train = knr.score(xtrain, ytrain)\n",
    "print(\"Sklearn KNeighborsRegressor\\nTrain: {0:5.5f}\\nTest: {1:5.5f}\".format(knr_test,knr_train))\n",
    "\n",
    "print(\"MSE TRAIN: \",mean_squared_error(ytrain, knr.predict(xtrain)))\n",
    "print(\"MSE TEST: \",mean_squared_error(ytest, knr.predict(xtest)))"
   ]
  },
  {
   "cell_type": "code",
   "execution_count": null,
   "metadata": {},
   "outputs": [],
   "source": []
  }
 ],
 "metadata": {
  "kernelspec": {
   "display_name": "Python 3",
   "language": "python",
   "name": "python3"
  },
  "language_info": {
   "codemirror_mode": {
    "name": "ipython",
    "version": 3
   },
   "file_extension": ".py",
   "mimetype": "text/x-python",
   "name": "python",
   "nbconvert_exporter": "python",
   "pygments_lexer": "ipython3",
   "version": "3.8.4"
  }
 },
 "nbformat": 4,
 "nbformat_minor": 4
}
