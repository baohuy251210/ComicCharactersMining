{
  "nbformat": 4,
  "nbformat_minor": 0,
  "metadata": {
    "colab": {
      "name": "firstnote.ipynb",
      "provenance": [],
      "collapsed_sections": [],
      "authorship_tag": "ABX9TyPX4ssRGYCSr7kzSuxAyQ3+",
      "include_colab_link": true
    },
    "kernelspec": {
      "name": "python3",
      "display_name": "Python 3"
    },
    "language_info": {
      "name": "python"
    }
  },
  "cells": [
    {
      "cell_type": "markdown",
      "metadata": {
        "id": "view-in-github",
        "colab_type": "text"
      },
      "source": [
        "<a href=\"https://colab.research.google.com/github/baohuy251210/ComicCharactersMining/blob/main/firstnote.ipynb\" target=\"_parent\"><img src=\"https://colab.research.google.com/assets/colab-badge.svg\" alt=\"Open In Colab\"/></a>"
      ]
    },
    {
      "cell_type": "markdown",
      "metadata": {
        "id": "xkhSNYRHa9rl"
      },
      "source": [
        "Explore notebook 1 \n",
        "\n",
        "For data mining project\n",
        "[ComicCharactersMining](https://github.com/baohuy251210/ComicCharactersMining)\n"
      ]
    },
    {
      "cell_type": "code",
      "metadata": {
        "id": "Ja5HzfbxYJOA"
      },
      "source": [
        "import numpy as np\n",
        "import pandas as pd\n",
        "import matplotlib.pyplot as plt\n",
        "%matplotlib inline"
      ],
      "execution_count": 1,
      "outputs": []
    },
    {
      "cell_type": "markdown",
      "metadata": {
        "id": "oy8YFq7Fbylr"
      },
      "source": [
        "## Reading a file from github repository\n",
        "Reading a dataset `.csv` from our repo:\n",
        "https://github.com/baohuy251210/ComicCharactersMining/blob/main/data/wikia/marvel-wikia-data.csv, \n",
        "\n",
        "click download to get the file then convert \n",
        "to a pandas DataFrame\n",
        "\n"
      ]
    },
    {
      "cell_type": "code",
      "metadata": {
        "colab": {
          "base_uri": "https://localhost:8080/"
        },
        "id": "FDtpk9Gobb7G",
        "outputId": "87889e0a-a835-4405-e6af-8ca0f2d1091e"
      },
      "source": [
        "marvel_wikia_url = 'https://raw.githubusercontent.com/baohuy251210/ComicCharactersMining/main/data/wikia/marvel-wikia-data.csv'\n",
        "marvel_wikia_df = pd.read_csv(marvel_wikia_url)\n",
        "print(marvel_wikia_df)"
      ],
      "execution_count": 4,
      "outputs": [
        {
          "output_type": "stream",
          "text": [
            "       page_id                                 name  ... FIRST APPEARANCE    Year\n",
            "0         1678            Spider-Man (Peter Parker)  ...           Aug-62  1962.0\n",
            "1         7139      Captain America (Steven Rogers)  ...           Mar-41  1941.0\n",
            "2        64786  Wolverine (James \\\"Logan\\\" Howlett)  ...           Oct-74  1974.0\n",
            "3         1868    Iron Man (Anthony \\\"Tony\\\" Stark)  ...           Mar-63  1963.0\n",
            "4         2460                  Thor (Thor Odinson)  ...           Nov-50  1950.0\n",
            "...        ...                                  ...  ...              ...     ...\n",
            "16371   657508                   Ru'ach (Earth-616)  ...              NaN     NaN\n",
            "16372   665474      Thane (Thanos' son) (Earth-616)  ...              NaN     NaN\n",
            "16373   695217        Tinkerer (Skrull) (Earth-616)  ...              NaN     NaN\n",
            "16374   708811       TK421 (Spiderling) (Earth-616)  ...              NaN     NaN\n",
            "16375   673702                Yologarch (Earth-616)  ...              NaN     NaN\n",
            "\n",
            "[16376 rows x 13 columns]\n"
          ],
          "name": "stdout"
        }
      ]
    },
    {
      "cell_type": "markdown",
      "metadata": {
        "id": "qufM_lLreUKg"
      },
      "source": [
        "## basics\n"
      ]
    },
    {
      "cell_type": "code",
      "metadata": {
        "colab": {
          "base_uri": "https://localhost:8080/"
        },
        "id": "ZZ8Tf2CfeRtS",
        "outputId": "dfedd9c7-9c6d-437c-81c8-4b7f8c18210a"
      },
      "source": [
        "df = marvel_wikia_df\n",
        "pd.set_option('display.max_columns', None) #Display all columns on default\n",
        "#get column names\n",
        "print(df.columns)\n",
        "#print only some columns\n",
        "df = df.sort_values(by='APPEARANCES', ascending=True)\n",
        "print(df[['name', 'APPEARANCES', 'FIRST APPEARANCE', 'Year']])"
      ],
      "execution_count": 15,
      "outputs": [
        {
          "output_type": "stream",
          "text": [
            "Index(['page_id', 'name', 'urlslug', 'ID', 'ALIGN', 'EYE', 'HAIR', 'SEX',\n",
            "       'GSM', 'ALIVE', 'APPEARANCES', 'FIRST APPEARANCE', 'Year'],\n",
            "      dtype='object')\n",
            "                                     name  APPEARANCES FIRST APPEARANCE  \\\n",
            "15279                  Zamira (Earth-616)          1.0              NaN   \n",
            "12069            Lord Ruthven (Earth-616)          1.0           Jun-73   \n",
            "12070          Mara (Eternal) (Earth-616)          1.0           Feb-73   \n",
            "12071  Mary Brown (Man-Thing) (Earth-616)          1.0           Nov-73   \n",
            "12072             Mikhal Oglu (Earth-616)          1.0           Feb-73   \n",
            "...                                   ...          ...              ...   \n",
            "16371                  Ru'ach (Earth-616)          NaN              NaN   \n",
            "16372     Thane (Thanos' son) (Earth-616)          NaN              NaN   \n",
            "16373       Tinkerer (Skrull) (Earth-616)          NaN              NaN   \n",
            "16374      TK421 (Spiderling) (Earth-616)          NaN              NaN   \n",
            "16375               Yologarch (Earth-616)          NaN              NaN   \n",
            "\n",
            "         Year  \n",
            "15279     NaN  \n",
            "12069  1973.0  \n",
            "12070  1973.0  \n",
            "12071  1973.0  \n",
            "12072  1973.0  \n",
            "...       ...  \n",
            "16371     NaN  \n",
            "16372     NaN  \n",
            "16373     NaN  \n",
            "16374     NaN  \n",
            "16375     NaN  \n",
            "\n",
            "[16376 rows x 4 columns]\n"
          ],
          "name": "stdout"
        }
      ]
    },
    {
      "cell_type": "code",
      "metadata": {
        "colab": {
          "base_uri": "https://localhost:8080/"
        },
        "id": "OExi_HkShY2M",
        "outputId": "530fa43d-f969-435a-cfc5-c8e4e4d2c44a"
      },
      "source": [
        "#Exclude characters with appearances = NaN\n",
        "df = marvel_wikia_df\n",
        "df = df[df['APPEARANCES'].notna()]\n",
        "print(df[['name', 'APPEARANCES']]) "
      ],
      "execution_count": 17,
      "outputs": [
        {
          "output_type": "stream",
          "text": [
            "                                          name  APPEARANCES\n",
            "0                    Spider-Man (Peter Parker)       4043.0\n",
            "1              Captain America (Steven Rogers)       3360.0\n",
            "2          Wolverine (James \\\"Logan\\\" Howlett)       3061.0\n",
            "3            Iron Man (Anthony \\\"Tony\\\" Stark)       2961.0\n",
            "4                          Thor (Thor Odinson)       2258.0\n",
            "...                                        ...          ...\n",
            "15275                  Visher-Rakk (Earth-616)          1.0\n",
            "15276  Weapon Red (Chinese Mutant) (Earth-616)          1.0\n",
            "15277           Wolfgang von Roehm (Earth-616)          1.0\n",
            "15278                          Xan (Earth-616)          1.0\n",
            "15279                       Zamira (Earth-616)          1.0\n",
            "\n",
            "[15280 rows x 2 columns]\n"
          ],
          "name": "stdout"
        }
      ]
    },
    {
      "cell_type": "markdown",
      "metadata": {
        "id": "w2LLZee7iJMP"
      },
      "source": [
        "## Save DataFrame to csv to download\n",
        "https://pandas.pydata.org/docs/reference/api/pandas.DataFrame.to_csv.html"
      ]
    },
    {
      "cell_type": "code",
      "metadata": {
        "id": "EbF4kptwiBfv"
      },
      "source": [
        "#Save first 10 columns to csv\n",
        "df.head(10).to_csv('modifieddf.csv')"
      ],
      "execution_count": 19,
      "outputs": []
    }
  ]
}