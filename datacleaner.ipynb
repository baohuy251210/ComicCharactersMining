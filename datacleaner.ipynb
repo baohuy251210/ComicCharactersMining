{
  "nbformat": 4,
  "nbformat_minor": 0,
  "metadata": {
    "colab": {
      "name": "datacleaner.ipynb",
      "provenance": [],
      "collapsed_sections": [],
      "authorship_tag": "ABX9TyP+Bx2pqHljPeX4Utn/HNy2",
      "include_colab_link": true
    },
    "kernelspec": {
      "name": "python3",
      "display_name": "Python 3"
    },
    "language_info": {
      "name": "python"
    }
  },
  "cells": [
    {
      "cell_type": "markdown",
      "metadata": {
        "id": "view-in-github",
        "colab_type": "text"
      },
      "source": [
        "<a href=\"https://colab.research.google.com/github/baohuy251210/ComicCharactersMining/blob/main/datacleaner.ipynb\" target=\"_parent\"><img src=\"https://colab.research.google.com/assets/colab-badge.svg\" alt=\"Open In Colab\"/></a>"
      ]
    },
    {
      "cell_type": "markdown",
      "metadata": {
        "id": "vIkvVUovjulV"
      },
      "source": [
        "# Data cleaner notebook\n",
        "Clean data:\n",
        "- change all column names to lowercase\n",
        "- other tasks to be added\n",
        "\n",
        "\n",
        "Then:\n",
        "- save as a file -> upload later to github repo"
      ]
    },
    {
      "cell_type": "code",
      "metadata": {
        "id": "uJRgzGMyjccl"
      },
      "source": [
        "import numpy as np\n",
        "import pandas as pd\n",
        "import matplotlib.pyplot as plt\n",
        "%matplotlib inline"
      ],
      "execution_count": 1,
      "outputs": []
    },
    {
      "cell_type": "code",
      "metadata": {
        "id": "Cb-QQskykDYu"
      },
      "source": [
        "def column_to_lower(url):\n",
        "  \"\"\"Return a df with lowercased columns\n",
        "  \"\"\"\n",
        "  df = pd.read_csv(url)\n",
        "  df.columns = df.columns.str.lower()\n",
        "  return df\n"
      ],
      "execution_count": 2,
      "outputs": []
    },
    {
      "cell_type": "code",
      "metadata": {
        "id": "xiT_YSJskwgh"
      },
      "source": [
        "marvel_wikia = 'https://raw.githubusercontent.com/baohuy251210/ComicCharactersMining/main/data/wikia/marvel-wikia-data.csv'\n",
        "column_to_lower(marvel_wikia).to_csv('marvel-wikia-data.csv')"
      ],
      "execution_count": 4,
      "outputs": []
    },
    {
      "cell_type": "code",
      "metadata": {
        "id": "MS19AKTnlH03"
      },
      "source": [
        "dc_wikia = 'https://raw.githubusercontent.com/baohuy251210/ComicCharactersMining/main/data/wikia/dc-wikia-data.csv'\n",
        "column_to_lower(dc_wikia).to_csv('dc-wikia-data.csv')"
      ],
      "execution_count": 6,
      "outputs": []
    }
  ]
}